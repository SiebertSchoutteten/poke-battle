{
 "cells": [
  {
   "cell_type": "code",
   "execution_count": 23,
   "metadata": {
    "collapsed": true
   },
   "outputs": [],
   "source": [
    "% matplotlib inline\n",
    "import numpy as np\n",
    "import pandas as pd\n",
    "import matplotlib.pyplot as plt\n",
    "from sklearn import linear_model\n",
    "from sklearn import svm\n",
    "\n",
    "from sklearn.model_selection import train_test_split\n",
    "from sklearn.metrics import classification_report\n",
    "from sklearn import preprocessing\n",
    "from sklearn.metrics import confusion_matrix, accuracy_score\n",
    "import seaborn as sns\n",
    "\n",
    "from sklearn.preprocessing import LabelEncoder\n",
    "from sklearn.externals import joblib"
   ]
  },
  {
   "cell_type": "markdown",
   "metadata": {},
   "source": [
    "# Inlezen van de dataset en overzicht"
   ]
  },
  {
   "cell_type": "code",
   "execution_count": 18,
   "metadata": {
    "scrolled": true
   },
   "outputs": [
    {
     "data": {
      "text/html": [
       "<div>\n",
       "<style>\n",
       "    .dataframe thead tr:only-child th {\n",
       "        text-align: right;\n",
       "    }\n",
       "\n",
       "    .dataframe thead th {\n",
       "        text-align: left;\n",
       "    }\n",
       "\n",
       "    .dataframe tbody tr th {\n",
       "        vertical-align: top;\n",
       "    }\n",
       "</style>\n",
       "<table border=\"1\" class=\"dataframe\">\n",
       "  <thead>\n",
       "    <tr style=\"text-align: right;\">\n",
       "      <th></th>\n",
       "      <th>poke1</th>\n",
       "      <th>poke2</th>\n",
       "      <th>leveldiff</th>\n",
       "      <th>attackdiff</th>\n",
       "      <th>defensediff</th>\n",
       "      <th>hpdiff</th>\n",
       "      <th>specialdiff</th>\n",
       "      <th>speediff</th>\n",
       "      <th>powerdiff</th>\n",
       "      <th>effectivitydiff</th>\n",
       "      <th>ratingdiff</th>\n",
       "      <th>win</th>\n",
       "    </tr>\n",
       "  </thead>\n",
       "  <tbody>\n",
       "    <tr>\n",
       "      <th>0</th>\n",
       "      <td>nidoking</td>\n",
       "      <td>victreebel</td>\n",
       "      <td>6</td>\n",
       "      <td>8</td>\n",
       "      <td>14</td>\n",
       "      <td>19</td>\n",
       "      <td>-1</td>\n",
       "      <td>22</td>\n",
       "      <td>120</td>\n",
       "      <td>0.00</td>\n",
       "      <td>-0.12</td>\n",
       "      <td>True</td>\n",
       "    </tr>\n",
       "    <tr>\n",
       "      <th>1</th>\n",
       "      <td>starmie</td>\n",
       "      <td>hitmonchan</td>\n",
       "      <td>-2</td>\n",
       "      <td>-59</td>\n",
       "      <td>-11</td>\n",
       "      <td>-10</td>\n",
       "      <td>93</td>\n",
       "      <td>54</td>\n",
       "      <td>22</td>\n",
       "      <td>0.50</td>\n",
       "      <td>-0.04</td>\n",
       "      <td>True</td>\n",
       "    </tr>\n",
       "    <tr>\n",
       "      <th>2</th>\n",
       "      <td>farfetch'd</td>\n",
       "      <td>marowak</td>\n",
       "      <td>-16</td>\n",
       "      <td>-29</td>\n",
       "      <td>-67</td>\n",
       "      <td>-36</td>\n",
       "      <td>-20</td>\n",
       "      <td>-10</td>\n",
       "      <td>-15</td>\n",
       "      <td>1.00</td>\n",
       "      <td>0.45</td>\n",
       "      <td>True</td>\n",
       "    </tr>\n",
       "    <tr>\n",
       "      <th>3</th>\n",
       "      <td>scyther</td>\n",
       "      <td>seadra</td>\n",
       "      <td>4</td>\n",
       "      <td>59</td>\n",
       "      <td>-11</td>\n",
       "      <td>31</td>\n",
       "      <td>-42</td>\n",
       "      <td>28</td>\n",
       "      <td>40</td>\n",
       "      <td>0.00</td>\n",
       "      <td>0.12</td>\n",
       "      <td>False</td>\n",
       "    </tr>\n",
       "    <tr>\n",
       "      <th>4</th>\n",
       "      <td>venonat</td>\n",
       "      <td>doduo</td>\n",
       "      <td>-23</td>\n",
       "      <td>-66</td>\n",
       "      <td>-27</td>\n",
       "      <td>-48</td>\n",
       "      <td>-36</td>\n",
       "      <td>-61</td>\n",
       "      <td>-95</td>\n",
       "      <td>-4.00</td>\n",
       "      <td>-1.22</td>\n",
       "      <td>False</td>\n",
       "    </tr>\n",
       "    <tr>\n",
       "      <th>5</th>\n",
       "      <td>haunter</td>\n",
       "      <td>nidoking</td>\n",
       "      <td>-7</td>\n",
       "      <td>-34</td>\n",
       "      <td>-28</td>\n",
       "      <td>-35</td>\n",
       "      <td>0</td>\n",
       "      <td>-18</td>\n",
       "      <td>-95</td>\n",
       "      <td>2.75</td>\n",
       "      <td>0.07</td>\n",
       "      <td>True</td>\n",
       "    </tr>\n",
       "    <tr>\n",
       "      <th>6</th>\n",
       "      <td>starmie</td>\n",
       "      <td>tentacool</td>\n",
       "      <td>0</td>\n",
       "      <td>88</td>\n",
       "      <td>98</td>\n",
       "      <td>40</td>\n",
       "      <td>7</td>\n",
       "      <td>89</td>\n",
       "      <td>5</td>\n",
       "      <td>1.00</td>\n",
       "      <td>-0.52</td>\n",
       "      <td>True</td>\n",
       "    </tr>\n",
       "    <tr>\n",
       "      <th>7</th>\n",
       "      <td>sandshrew</td>\n",
       "      <td>blastoise</td>\n",
       "      <td>-8</td>\n",
       "      <td>-27</td>\n",
       "      <td>-31</td>\n",
       "      <td>-65</td>\n",
       "      <td>-79</td>\n",
       "      <td>-56</td>\n",
       "      <td>10</td>\n",
       "      <td>-2.00</td>\n",
       "      <td>0.18</td>\n",
       "      <td>False</td>\n",
       "    </tr>\n",
       "    <tr>\n",
       "      <th>8</th>\n",
       "      <td>magikarp</td>\n",
       "      <td>poliwhirl</td>\n",
       "      <td>23</td>\n",
       "      <td>-107</td>\n",
       "      <td>1</td>\n",
       "      <td>-32</td>\n",
       "      <td>-49</td>\n",
       "      <td>-2</td>\n",
       "      <td>-20</td>\n",
       "      <td>-1.50</td>\n",
       "      <td>-1.60</td>\n",
       "      <td>False</td>\n",
       "    </tr>\n",
       "    <tr>\n",
       "      <th>9</th>\n",
       "      <td>kangaskhan</td>\n",
       "      <td>oddish</td>\n",
       "      <td>9</td>\n",
       "      <td>27</td>\n",
       "      <td>23</td>\n",
       "      <td>44</td>\n",
       "      <td>4</td>\n",
       "      <td>32</td>\n",
       "      <td>18</td>\n",
       "      <td>1.00</td>\n",
       "      <td>0.70</td>\n",
       "      <td>True</td>\n",
       "    </tr>\n",
       "  </tbody>\n",
       "</table>\n",
       "</div>"
      ],
      "text/plain": [
       "        poke1       poke2  leveldiff  attackdiff  defensediff  hpdiff  \\\n",
       "0    nidoking  victreebel          6           8           14      19   \n",
       "1     starmie  hitmonchan         -2         -59          -11     -10   \n",
       "2  farfetch'd     marowak        -16         -29          -67     -36   \n",
       "3     scyther      seadra          4          59          -11      31   \n",
       "4     venonat       doduo        -23         -66          -27     -48   \n",
       "5     haunter    nidoking         -7         -34          -28     -35   \n",
       "6     starmie   tentacool          0          88           98      40   \n",
       "7   sandshrew   blastoise         -8         -27          -31     -65   \n",
       "8    magikarp   poliwhirl         23        -107            1     -32   \n",
       "9  kangaskhan      oddish          9          27           23      44   \n",
       "\n",
       "   specialdiff  speediff  powerdiff  effectivitydiff  ratingdiff    win  \n",
       "0           -1        22        120             0.00       -0.12   True  \n",
       "1           93        54         22             0.50       -0.04   True  \n",
       "2          -20       -10        -15             1.00        0.45   True  \n",
       "3          -42        28         40             0.00        0.12  False  \n",
       "4          -36       -61        -95            -4.00       -1.22  False  \n",
       "5            0       -18        -95             2.75        0.07   True  \n",
       "6            7        89          5             1.00       -0.52   True  \n",
       "7          -79       -56         10            -2.00        0.18  False  \n",
       "8          -49        -2        -20            -1.50       -1.60  False  \n",
       "9            4        32         18             1.00        0.70   True  "
      ]
     },
     "execution_count": 18,
     "metadata": {},
     "output_type": "execute_result"
    }
   ],
   "source": [
    "#Inlezen van de dataset\n",
    "dataset = pd.read_csv('pokecombat_train.csv',';')\n",
    "\n",
    "df = pd.DataFrame(dataset)\n",
    "\n",
    "dataset.head(10)"
   ]
  },
  {
   "cell_type": "code",
   "execution_count": 25,
   "metadata": {
    "collapsed": true
   },
   "outputs": [],
   "source": [
    "# stap overgeslagen\n",
    "#x = df.select_dtypes(include=['number']) \\\n",
    "                #.apply(LabelEncoder().fit_transform) \\\n",
    "                #.join(df.select_dtypes(include=['number']))\n",
    "        \n",
    "#x.head(10)"
   ]
  },
  {
   "cell_type": "code",
   "execution_count": 70,
   "metadata": {},
   "outputs": [
    {
     "data": {
      "text/html": [
       "<div>\n",
       "<style>\n",
       "    .dataframe thead tr:only-child th {\n",
       "        text-align: right;\n",
       "    }\n",
       "\n",
       "    .dataframe thead th {\n",
       "        text-align: left;\n",
       "    }\n",
       "\n",
       "    .dataframe tbody tr th {\n",
       "        vertical-align: top;\n",
       "    }\n",
       "</style>\n",
       "<table border=\"1\" class=\"dataframe\">\n",
       "  <thead>\n",
       "    <tr style=\"text-align: right;\">\n",
       "      <th></th>\n",
       "      <th>leveldiff</th>\n",
       "      <th>attackdiff</th>\n",
       "      <th>defensediff</th>\n",
       "      <th>hpdiff</th>\n",
       "      <th>specialdiff</th>\n",
       "      <th>speediff</th>\n",
       "      <th>powerdiff</th>\n",
       "      <th>effectivitydiff</th>\n",
       "      <th>ratingdiff</th>\n",
       "    </tr>\n",
       "  </thead>\n",
       "  <tbody>\n",
       "    <tr>\n",
       "      <th>count</th>\n",
       "      <td>1000000.000000</td>\n",
       "      <td>1000000.000000</td>\n",
       "      <td>1000000.000000</td>\n",
       "      <td>1000000.000000</td>\n",
       "      <td>1000000.000000</td>\n",
       "      <td>1000000.000000</td>\n",
       "      <td>1000000.000000</td>\n",
       "      <td>1000000.000000</td>\n",
       "      <td>1000000.000000</td>\n",
       "    </tr>\n",
       "    <tr>\n",
       "      <th>mean</th>\n",
       "      <td>0.405971</td>\n",
       "      <td>1.169707</td>\n",
       "      <td>1.091980</td>\n",
       "      <td>1.627808</td>\n",
       "      <td>1.227546</td>\n",
       "      <td>1.228186</td>\n",
       "      <td>-0.126838</td>\n",
       "      <td>-0.011571</td>\n",
       "      <td>-0.006218</td>\n",
       "    </tr>\n",
       "    <tr>\n",
       "      <th>std</th>\n",
       "      <td>13.802009</td>\n",
       "      <td>52.992046</td>\n",
       "      <td>53.408511</td>\n",
       "      <td>62.836760</td>\n",
       "      <td>54.608859</td>\n",
       "      <td>52.244489</td>\n",
       "      <td>81.048280</td>\n",
       "      <td>1.889134</td>\n",
       "      <td>0.804777</td>\n",
       "    </tr>\n",
       "    <tr>\n",
       "      <th>min</th>\n",
       "      <td>-24.000000</td>\n",
       "      <td>-286.000000</td>\n",
       "      <td>-360.000000</td>\n",
       "      <td>-527.000000</td>\n",
       "      <td>-285.000000</td>\n",
       "      <td>-304.000000</td>\n",
       "      <td>-540.000000</td>\n",
       "      <td>-13.500000</td>\n",
       "      <td>-3.220000</td>\n",
       "    </tr>\n",
       "    <tr>\n",
       "      <th>25%</th>\n",
       "      <td>-11.000000</td>\n",
       "      <td>-30.000000</td>\n",
       "      <td>-29.000000</td>\n",
       "      <td>-36.000000</td>\n",
       "      <td>-30.000000</td>\n",
       "      <td>-29.000000</td>\n",
       "      <td>-50.000000</td>\n",
       "      <td>-1.000000</td>\n",
       "      <td>-0.550000</td>\n",
       "    </tr>\n",
       "    <tr>\n",
       "      <th>50%</th>\n",
       "      <td>0.000000</td>\n",
       "      <td>0.000000</td>\n",
       "      <td>0.000000</td>\n",
       "      <td>0.000000</td>\n",
       "      <td>0.000000</td>\n",
       "      <td>0.000000</td>\n",
       "      <td>0.000000</td>\n",
       "      <td>0.000000</td>\n",
       "      <td>0.000000</td>\n",
       "    </tr>\n",
       "    <tr>\n",
       "      <th>75%</th>\n",
       "      <td>12.000000</td>\n",
       "      <td>31.000000</td>\n",
       "      <td>30.000000</td>\n",
       "      <td>39.000000</td>\n",
       "      <td>32.000000</td>\n",
       "      <td>31.000000</td>\n",
       "      <td>50.000000</td>\n",
       "      <td>1.000000</td>\n",
       "      <td>0.530000</td>\n",
       "    </tr>\n",
       "    <tr>\n",
       "      <th>max</th>\n",
       "      <td>25.000000</td>\n",
       "      <td>289.000000</td>\n",
       "      <td>376.000000</td>\n",
       "      <td>523.000000</td>\n",
       "      <td>283.000000</td>\n",
       "      <td>283.000000</td>\n",
       "      <td>570.000000</td>\n",
       "      <td>15.000000</td>\n",
       "      <td>3.330000</td>\n",
       "    </tr>\n",
       "  </tbody>\n",
       "</table>\n",
       "</div>"
      ],
      "text/plain": [
       "            leveldiff      attackdiff     defensediff          hpdiff  \\\n",
       "count  1000000.000000  1000000.000000  1000000.000000  1000000.000000   \n",
       "mean         0.405971        1.169707        1.091980        1.627808   \n",
       "std         13.802009       52.992046       53.408511       62.836760   \n",
       "min        -24.000000     -286.000000     -360.000000     -527.000000   \n",
       "25%        -11.000000      -30.000000      -29.000000      -36.000000   \n",
       "50%          0.000000        0.000000        0.000000        0.000000   \n",
       "75%         12.000000       31.000000       30.000000       39.000000   \n",
       "max         25.000000      289.000000      376.000000      523.000000   \n",
       "\n",
       "          specialdiff        speediff       powerdiff  effectivitydiff  \\\n",
       "count  1000000.000000  1000000.000000  1000000.000000   1000000.000000   \n",
       "mean         1.227546        1.228186       -0.126838        -0.011571   \n",
       "std         54.608859       52.244489       81.048280         1.889134   \n",
       "min       -285.000000     -304.000000     -540.000000       -13.500000   \n",
       "25%        -30.000000      -29.000000      -50.000000        -1.000000   \n",
       "50%          0.000000        0.000000        0.000000         0.000000   \n",
       "75%         32.000000       31.000000       50.000000         1.000000   \n",
       "max        283.000000      283.000000      570.000000        15.000000   \n",
       "\n",
       "           ratingdiff  \n",
       "count  1000000.000000  \n",
       "mean        -0.006218  \n",
       "std          0.804777  \n",
       "min         -3.220000  \n",
       "25%         -0.550000  \n",
       "50%          0.000000  \n",
       "75%          0.530000  \n",
       "max          3.330000  "
      ]
     },
     "execution_count": 70,
     "metadata": {},
     "output_type": "execute_result"
    }
   ],
   "source": [
    "# Beschrijvende statistische analyse\n",
    "dataset.describe()"
   ]
  },
  {
   "cell_type": "markdown",
   "metadata": {},
   "source": [
    "# Visualiseren van de dataset"
   ]
  },
  {
   "cell_type": "code",
   "execution_count": 71,
   "metadata": {},
   "outputs": [
    {
     "data": {
      "text/plain": [
       "array([[<matplotlib.axes._subplots.AxesSubplot object at 0x0000023B4C51F668>,\n",
       "        <matplotlib.axes._subplots.AxesSubplot object at 0x0000023B4BD61908>,\n",
       "        <matplotlib.axes._subplots.AxesSubplot object at 0x0000023B4C3D8A90>],\n",
       "       [<matplotlib.axes._subplots.AxesSubplot object at 0x0000023B4C5D7F98>,\n",
       "        <matplotlib.axes._subplots.AxesSubplot object at 0x0000023B4C47F630>,\n",
       "        <matplotlib.axes._subplots.AxesSubplot object at 0x0000023B4C47F668>],\n",
       "       [<matplotlib.axes._subplots.AxesSubplot object at 0x0000023B4C250470>,\n",
       "        <matplotlib.axes._subplots.AxesSubplot object at 0x0000023B4C234630>,\n",
       "        <matplotlib.axes._subplots.AxesSubplot object at 0x0000023B4BDA2198>],\n",
       "       [<matplotlib.axes._subplots.AxesSubplot object at 0x0000023B4BD945C0>,\n",
       "        <matplotlib.axes._subplots.AxesSubplot object at 0x0000023B3A8A2E80>,\n",
       "        <matplotlib.axes._subplots.AxesSubplot object at 0x0000023B4C5C40B8>]], dtype=object)"
      ]
     },
     "execution_count": 71,
     "metadata": {},
     "output_type": "execute_result"
    },
    {
     "data": {
      "image/png": "[encoded data removed]",
      "text/plain": [
       "<matplotlib.figure.Figure at 0x23b4c51a588>"
      ]
     },
     "metadata": {},
     "output_type": "display_data"
    }
   ],
   "source": [
    "# Histogram\n",
    "dataset.hist(figsize=(15,8))"
   ]
  },
  {
   "cell_type": "code",
   "execution_count": 74,
   "metadata": {},
   "outputs": [
    {
     "data": {
      "text/plain": [
       "leveldiff              Axes(0.125,0.71587;0.168478x0.16413)\n",
       "attackdiff          Axes(0.327174,0.71587;0.168478x0.16413)\n",
       "defensediff         Axes(0.529348,0.71587;0.168478x0.16413)\n",
       "hpdiff              Axes(0.731522,0.71587;0.168478x0.16413)\n",
       "specialdiff           Axes(0.125,0.518913;0.168478x0.16413)\n",
       "speediff           Axes(0.327174,0.518913;0.168478x0.16413)\n",
       "powerdiff          Axes(0.529348,0.518913;0.168478x0.16413)\n",
       "effectivitydiff    Axes(0.731522,0.518913;0.168478x0.16413)\n",
       "ratingdiff            Axes(0.125,0.321957;0.168478x0.16413)\n",
       "win                Axes(0.327174,0.321957;0.168478x0.16413)\n",
       "dtype: object"
      ]
     },
     "execution_count": 74,
     "metadata": {},
     "output_type": "execute_result"
    },
    {
     "data": {
      "image/png": "[encoded data removed]",
      "text/plain": [
       "<matplotlib.figure.Figure at 0x23b5cc5ada0>"
      ]
     },
     "metadata": {},
     "output_type": "display_data"
    }
   ],
   "source": [
    "# Box plot\n",
    "dataset.plot(kind= 'box' , subplots=True, layout=(4,4), sharex=False, sharey=False, figsize=(10,8))"
   ]
  },
  {
   "cell_type": "code",
   "execution_count": 75,
   "metadata": {},
   "outputs": [
    {
     "data": {
      "text/plain": [
       "<matplotlib.axes._subplots.AxesSubplot at 0x23b5f40a048>"
      ]
     },
     "execution_count": 75,
     "metadata": {},
     "output_type": "execute_result"
    },
    {
     "data": {
      "image/png": "[encoded data removed]",
      "text/plain": [
       "<matplotlib.figure.Figure at 0x23b5f40e518>"
      ]
     },
     "metadata": {},
     "output_type": "display_data"
    }
   ],
   "source": [
    "# Correlation plot\n",
    "Corr=dataset[dataset.columns].corr() \n",
    "sns.heatmap(Corr, annot=True)"
   ]
  },
  {
   "cell_type": "markdown",
   "metadata": {},
   "source": [
    "# Preprocessing en opsplitsen in training en test set"
   ]
  },
  {
   "cell_type": "code",
   "execution_count": 21,
   "metadata": {},
   "outputs": [
    {
     "name": "stdout",
     "output_type": "stream",
     "text": [
      "['leveldiff', 'attackdiff', 'defensediff', 'hpdiff', 'specialdiff', 'speediff', 'powerdiff', 'effectivitydiff', 'ratingdiff']\n",
      "(1000000, 9)\n",
      "(1000000, 9)\n",
      "(1000000, 9)\n"
     ]
    }
   ],
   "source": [
    "# Opsplitsen in features en targets van trainingsset\n",
    "features = list(dataset[['leveldiff','attackdiff','defensediff','hpdiff','specialdiff','speediff','powerdiff','effectivitydiff','ratingdiff']])\n",
    "print(features)\n",
    "X_train = dataset[features].values\n",
    "\n",
    "y_train = dataset['win'].values\n",
    "\n",
    "\n",
    "# Normalisatie van de dataset\n",
    "standard_scaler = preprocessing.StandardScaler().fit(X_train)  # Normaliseer naar gemiddelde = 0 en standaardafwijking = 1\n",
    "max_abs_scaler = preprocessing.MaxAbsScaler().fit(X_train)   # Deel elke waarde door de absolute waarde van het maximum\n",
    "min_max_scaler = preprocessing.MinMaxScaler().fit(X_train)   # Trek van elke waar het min af en deel door (MAX - MIN)\n",
    "\n",
    "X_train_standard = standard_scaler.transform(X_train)\n",
    "X_train_max_abs = max_abs_scaler.transform(X_train)\n",
    "X_train_min_max = min_max_scaler.transform(X_train)\n",
    "\n",
    "print(X_train_standard.shape)\n",
    "print(X_train_max_abs.shape)\n",
    "print(X_train_min_max.shape)"
   ]
  },
  {
   "cell_type": "markdown",
   "metadata": {},
   "source": [
    "# Logistic regression"
   ]
  },
  {
   "cell_type": "markdown",
   "metadata": {},
   "source": [
    "## Initialiseren en trainen van de logistic regression classifier"
   ]
  },
  {
   "cell_type": "code",
   "execution_count": 19,
   "metadata": {},
   "outputs": [
    {
     "data": {
      "text/html": [
       "<div>\n",
       "<style>\n",
       "    .dataframe thead tr:only-child th {\n",
       "        text-align: right;\n",
       "    }\n",
       "\n",
       "    .dataframe thead th {\n",
       "        text-align: left;\n",
       "    }\n",
       "\n",
       "    .dataframe tbody tr th {\n",
       "        vertical-align: top;\n",
       "    }\n",
       "</style>\n",
       "<table border=\"1\" class=\"dataframe\">\n",
       "  <thead>\n",
       "    <tr style=\"text-align: right;\">\n",
       "      <th></th>\n",
       "      <th>poke1</th>\n",
       "      <th>poke2</th>\n",
       "      <th>leveldiff</th>\n",
       "      <th>attackdiff</th>\n",
       "      <th>defensediff</th>\n",
       "      <th>hpdiff</th>\n",
       "      <th>specialdiff</th>\n",
       "      <th>speediff</th>\n",
       "      <th>powerdiff</th>\n",
       "      <th>effectivitydiff</th>\n",
       "      <th>ratingdiff</th>\n",
       "      <th>win</th>\n",
       "    </tr>\n",
       "  </thead>\n",
       "  <tbody>\n",
       "    <tr>\n",
       "      <th>0</th>\n",
       "      <td>magmar</td>\n",
       "      <td>charmander</td>\n",
       "      <td>2</td>\n",
       "      <td>55</td>\n",
       "      <td>13</td>\n",
       "      <td>44</td>\n",
       "      <td>38</td>\n",
       "      <td>27</td>\n",
       "      <td>-165</td>\n",
       "      <td>0.00</td>\n",
       "      <td>-0.66</td>\n",
       "      <td>False</td>\n",
       "    </tr>\n",
       "    <tr>\n",
       "      <th>1</th>\n",
       "      <td>dewgong</td>\n",
       "      <td>dewgong</td>\n",
       "      <td>8</td>\n",
       "      <td>-4</td>\n",
       "      <td>-4</td>\n",
       "      <td>17</td>\n",
       "      <td>4</td>\n",
       "      <td>9</td>\n",
       "      <td>0</td>\n",
       "      <td>0.25</td>\n",
       "      <td>-0.15</td>\n",
       "      <td>True</td>\n",
       "    </tr>\n",
       "    <tr>\n",
       "      <th>2</th>\n",
       "      <td>rapidash</td>\n",
       "      <td>rapidash</td>\n",
       "      <td>-16</td>\n",
       "      <td>-36</td>\n",
       "      <td>-26</td>\n",
       "      <td>-38</td>\n",
       "      <td>-34</td>\n",
       "      <td>-36</td>\n",
       "      <td>0</td>\n",
       "      <td>0.00</td>\n",
       "      <td>0.00</td>\n",
       "      <td>False</td>\n",
       "    </tr>\n",
       "    <tr>\n",
       "      <th>3</th>\n",
       "      <td>staryu</td>\n",
       "      <td>rhydon</td>\n",
       "      <td>2</td>\n",
       "      <td>-134</td>\n",
       "      <td>-82</td>\n",
       "      <td>-120</td>\n",
       "      <td>58</td>\n",
       "      <td>70</td>\n",
       "      <td>-55</td>\n",
       "      <td>2.00</td>\n",
       "      <td>0.53</td>\n",
       "      <td>False</td>\n",
       "    </tr>\n",
       "    <tr>\n",
       "      <th>4</th>\n",
       "      <td>vulpix</td>\n",
       "      <td>nidoqueen</td>\n",
       "      <td>-11</td>\n",
       "      <td>-53</td>\n",
       "      <td>-53</td>\n",
       "      <td>-67</td>\n",
       "      <td>-33</td>\n",
       "      <td>-27</td>\n",
       "      <td>-33</td>\n",
       "      <td>0.00</td>\n",
       "      <td>-0.54</td>\n",
       "      <td>False</td>\n",
       "    </tr>\n",
       "    <tr>\n",
       "      <th>5</th>\n",
       "      <td>dragonair</td>\n",
       "      <td>victreebel</td>\n",
       "      <td>-13</td>\n",
       "      <td>-88</td>\n",
       "      <td>-57</td>\n",
       "      <td>-89</td>\n",
       "      <td>-91</td>\n",
       "      <td>-26</td>\n",
       "      <td>-120</td>\n",
       "      <td>1.50</td>\n",
       "      <td>-0.57</td>\n",
       "      <td>False</td>\n",
       "    </tr>\n",
       "    <tr>\n",
       "      <th>6</th>\n",
       "      <td>wigglytuff</td>\n",
       "      <td>psyduck</td>\n",
       "      <td>-22</td>\n",
       "      <td>-28</td>\n",
       "      <td>-32</td>\n",
       "      <td>-47</td>\n",
       "      <td>-30</td>\n",
       "      <td>-32</td>\n",
       "      <td>50</td>\n",
       "      <td>3.00</td>\n",
       "      <td>1.48</td>\n",
       "      <td>False</td>\n",
       "    </tr>\n",
       "    <tr>\n",
       "      <th>7</th>\n",
       "      <td>golduck</td>\n",
       "      <td>bulbasaur</td>\n",
       "      <td>-5</td>\n",
       "      <td>6</td>\n",
       "      <td>2</td>\n",
       "      <td>1</td>\n",
       "      <td>-2</td>\n",
       "      <td>16</td>\n",
       "      <td>160</td>\n",
       "      <td>0.00</td>\n",
       "      <td>-1.09</td>\n",
       "      <td>False</td>\n",
       "    </tr>\n",
       "    <tr>\n",
       "      <th>8</th>\n",
       "      <td>ninetales</td>\n",
       "      <td>alakazam</td>\n",
       "      <td>-15</td>\n",
       "      <td>-20</td>\n",
       "      <td>-15</td>\n",
       "      <td>-35</td>\n",
       "      <td>-54</td>\n",
       "      <td>-42</td>\n",
       "      <td>-90</td>\n",
       "      <td>0.00</td>\n",
       "      <td>-0.37</td>\n",
       "      <td>False</td>\n",
       "    </tr>\n",
       "    <tr>\n",
       "      <th>9</th>\n",
       "      <td>ponyta</td>\n",
       "      <td>doduo</td>\n",
       "      <td>-13</td>\n",
       "      <td>-27</td>\n",
       "      <td>-7</td>\n",
       "      <td>-25</td>\n",
       "      <td>-5</td>\n",
       "      <td>-31</td>\n",
       "      <td>-75</td>\n",
       "      <td>0.00</td>\n",
       "      <td>-0.96</td>\n",
       "      <td>True</td>\n",
       "    </tr>\n",
       "  </tbody>\n",
       "</table>\n",
       "</div>"
      ],
      "text/plain": [
       "        poke1       poke2  leveldiff  attackdiff  defensediff  hpdiff  \\\n",
       "0      magmar  charmander          2          55           13      44   \n",
       "1     dewgong     dewgong          8          -4           -4      17   \n",
       "2    rapidash    rapidash        -16         -36          -26     -38   \n",
       "3      staryu      rhydon          2        -134          -82    -120   \n",
       "4      vulpix   nidoqueen        -11         -53          -53     -67   \n",
       "5   dragonair  victreebel        -13         -88          -57     -89   \n",
       "6  wigglytuff     psyduck        -22         -28          -32     -47   \n",
       "7     golduck   bulbasaur         -5           6            2       1   \n",
       "8   ninetales    alakazam        -15         -20          -15     -35   \n",
       "9      ponyta       doduo        -13         -27           -7     -25   \n",
       "\n",
       "   specialdiff  speediff  powerdiff  effectivitydiff  ratingdiff    win  \n",
       "0           38        27       -165             0.00       -0.66  False  \n",
       "1            4         9          0             0.25       -0.15   True  \n",
       "2          -34       -36          0             0.00        0.00  False  \n",
       "3           58        70        -55             2.00        0.53  False  \n",
       "4          -33       -27        -33             0.00       -0.54  False  \n",
       "5          -91       -26       -120             1.50       -0.57  False  \n",
       "6          -30       -32         50             3.00        1.48  False  \n",
       "7           -2        16        160             0.00       -1.09  False  \n",
       "8          -54       -42        -90             0.00       -0.37  False  \n",
       "9           -5       -31        -75             0.00       -0.96   True  "
      ]
     },
     "execution_count": 19,
     "metadata": {},
     "output_type": "execute_result"
    }
   ],
   "source": [
    "#Inlezen van de dataset\n",
    "dataset2 = pd.read_csv('pokecombat_test.csv',';')\n",
    "\n",
    "df2 = pd.DataFrame(dataset2)\n",
    "\n",
    "dataset2.head(10)"
   ]
  },
  {
   "cell_type": "code",
   "execution_count": 32,
   "metadata": {
    "collapsed": true
   },
   "outputs": [],
   "source": [
    "#stap overgeslagen\n",
    "#x2 = df2.select_dtypes(exclude=['number']) \\\n",
    "                #.apply(LabelEncoder().fit_transform) \\\n",
    "                #.join(df2.select_dtypes(include=['number']))\n",
    "        \n",
    "#x2.head(10)"
   ]
  },
  {
   "cell_type": "code",
   "execution_count": 20,
   "metadata": {},
   "outputs": [
    {
     "name": "stdout",
     "output_type": "stream",
     "text": [
      "(249999, 9)\n",
      "(249999, 9)\n",
      "(249999, 9)\n"
     ]
    }
   ],
   "source": [
    "# Opsplitsen in features en targets van testset\n",
    "\n",
    "features = list(dataset2[['leveldiff','attackdiff','defensediff','hpdiff','specialdiff','speediff','powerdiff','effectivitydiff','ratingdiff']])\n",
    "X_test = dataset2[features].values\n",
    "y_test= dataset2['win'].values\n",
    "\n",
    "# Normalisatie van de dataset\n",
    "X_test_standard = standard_scaler.transform(X_test)\n",
    "X_test_max_abs = max_abs_scaler.transform(X_test)\n",
    "X_test_min_max = min_max_scaler.transform(X_test)\n",
    "\n",
    "print(X_test_standard.shape)\n",
    "print(X_test_max_abs.shape)\n",
    "print(X_test_min_max.shape)"
   ]
  },
  {
   "cell_type": "markdown",
   "metadata": {},
   "source": [
    "## Initialiseren van de logistic regression classifier met standard scaled data"
   ]
  },
  {
   "cell_type": "code",
   "execution_count": 24,
   "metadata": {},
   "outputs": [
    {
     "name": "stdout",
     "output_type": "stream",
     "text": [
      "             precision    recall  f1-score   support\n",
      "\n",
      "      False       0.74      0.74      0.74    126130\n",
      "       True       0.74      0.74      0.74    123869\n",
      "\n",
      "avg / total       0.74      0.74      0.74    249999\n",
      "\n",
      "[[93926 32204]\n",
      " [32404 91465]]\n",
      "74.1566966268\n"
     ]
    },
    {
     "data": {
      "text/plain": [
       "['logreg.pb1']"
      ]
     },
     "execution_count": 24,
     "metadata": {},
     "output_type": "execute_result"
    }
   ],
   "source": [
    "# Initialiseren van de logistic regression classifier\n",
    "logreg = linear_model.LogisticRegression(C=1,class_weight= None)\n",
    "#logreg = linear_model.LogisticRegression(C=1,class_weight= 'balanced')\n",
    "\n",
    "# Training van het model\n",
    "logreg.fit(X_train_standard, y_train)\n",
    "\n",
    "##print('De bias = theta_0: ', logreg.intercept_)\n",
    "##print('De coefficienten theta: ',logreg.coef_)\n",
    "\n",
    "# Testen van het model op de test set\n",
    "y_pred = logreg.predict(X_test_standard)\n",
    "print(classification_report(y_test, y_pred))\n",
    "\n",
    "cf = confusion_matrix(y_test, y_pred)\n",
    "print(cf)\n",
    "print(accuracy_score(y_test, y_pred) * 100)\n",
    "joblib.dump(logreg, 'logreg.pb1', compress=9)"
   ]
  },
  {
   "cell_type": "code",
   "execution_count": 53,
   "metadata": {},
   "outputs": [
    {
     "name": "stdout",
     "output_type": "stream",
     "text": [
      "De bias = theta_0:  [-0.03983097]\n",
      "De coefficienten theta:  [[ 0.90827434  2.81451663  1.47878719 -0.38423397  2.24738917  0.18320267\n",
      "   3.52476838  3.05494495  0.34383195]]\n",
      "             precision    recall  f1-score   support\n",
      "\n",
      "      False       0.74      0.75      0.74     12512\n",
      "       True       0.74      0.74      0.74     12487\n",
      "\n",
      "avg / total       0.74      0.74      0.74     24999\n",
      "\n",
      "[[9328 3184]\n",
      " [3221 9266]]\n",
      "74.378975159\n"
     ]
    }
   ],
   "source": [
    "# Initialiseren van de logistic regression classifier met standard scaling\n",
    "#logreg = linear_model.LogisticRegression(C=1,class_weight= None)\n",
    "\n",
    "#logreg = linear_model.LogisticRegression(C=0.1,class_weight= 'balanced')\n",
    "logreg = linear_model.LogisticRegression(C=1,class_weight= 'balanced',solver= 'sag')\n",
    "# Training van het model\n",
    "logreg.fit(X_train_max_abs, y_train)\n",
    "\n",
    "print('De bias = theta_0: ', logreg.intercept_)\n",
    "print('De coefficienten theta: ',logreg.coef_)\n",
    "\n",
    "# Testen van het model op de test set\n",
    "y_pred = logreg.predict(X_test_max_abs)\n",
    "print(classification_report(y_test, y_pred))\n",
    "\n",
    "cf = confusion_matrix(y_test, y_pred)\n",
    "print(cf)\n",
    "print(accuracy_score(y_test, y_pred) * 100)"
   ]
  },
  {
   "cell_type": "code",
   "execution_count": 54,
   "metadata": {},
   "outputs": [
    {
     "name": "stdout",
     "output_type": "stream",
     "text": [
      "De bias = theta_0:  [-13.67620686]\n",
      "De coefficienten theta:  [[ 1.75245905  5.39525863  2.89500586 -0.67664433  4.40466849  0.3865841\n",
      "   6.6509422   5.57576435  0.7218353 ]]\n",
      "             precision    recall  f1-score   support\n",
      "\n",
      "      False       0.74      0.75      0.74     12512\n",
      "       True       0.74      0.74      0.74     12487\n",
      "\n",
      "avg / total       0.74      0.74      0.74     24999\n",
      "\n",
      "[[9329 3183]\n",
      " [3223 9264]]\n",
      "74.374974999\n"
     ]
    }
   ],
   "source": [
    "# Initialiseren van de logistic regression classifier met standard scaling\n",
    "#logreg = linear_model.LogisticRegression(C=0.2,class_weight= None)\n",
    "logreg = linear_model.LogisticRegression(C=1,class_weight= 'balanced',solver= 'sag')\n",
    "#logreg = linear_model.LogisticRegression(C=1,class_weight= 'balanced')\n",
    "\n",
    "# Training van het model\n",
    "logreg.fit(X_train_min_max, y_train)\n",
    "\n",
    "print('De bias = theta_0: ', logreg.intercept_)\n",
    "print('De coefficienten theta: ',logreg.coef_)\n",
    "# Testen van het model op de test set\n",
    "\n",
    "y_pred = logreg.predict(X_test_min_max)\n",
    "print(classification_report(y_test, y_pred))\n",
    "\n",
    "cf = confusion_matrix(y_test, y_pred)\n",
    "print(cf)\n",
    "print(accuracy_score(y_test, y_pred) * 100)"
   ]
  },
  {
   "cell_type": "markdown",
   "metadata": {},
   "source": [
    "## Testen van het model op de test set"
   ]
  },
  {
   "cell_type": "code",
   "execution_count": 22,
   "metadata": {},
   "outputs": [
    {
     "name": "stdout",
     "output_type": "stream",
     "text": [
      "             precision    recall  f1-score   support\n",
      "\n",
      "      False       0.74      0.74      0.74     12512\n",
      "       True       0.74      0.74      0.74     12487\n",
      "\n",
      "avg / total       0.74      0.74      0.74     24999\n",
      "\n",
      "[[9297 3215]\n",
      " [3191 9296]]\n",
      "74.374974999\n"
     ]
    }
   ],
   "source": [
    "# Testen van het model op de test set\n",
    "y_pred = logreg.predict(X_test)\n",
    "print(classification_report(y_test, y_pred))\n",
    "\n",
    "cf = confusion_matrix(y_test, y_pred)\n",
    "print(cf)\n",
    "print(accuracy_score(y_test, y_pred) * 100)"
   ]
  },
  {
   "cell_type": "markdown",
   "metadata": {},
   "source": [
    "## Predictie op een nieuwe patiënt\n",
    "\n",
    "Pregnancies:2 -\n",
    "Glucose: 132 -\n",
    "BloodPressure: 74 - \n",
    "SkinThickness:20 - \n",
    "Insulin:21 - \n",
    "BMI:24.3 - \n",
    "DiabetesPedigreeFunction:128 - \n",
    "Age: 37"
   ]
  },
  {
   "cell_type": "code",
   "execution_count": 16,
   "metadata": {},
   "outputs": [
    {
     "ename": "ValueError",
     "evalue": "operands could not be broadcast together with shapes (1,8) (11,) (1,8) ",
     "output_type": "error",
     "traceback": [
      "\u001b[1;31m---------------------------------------------------------------------------\u001b[0m",
      "\u001b[1;31mValueError\u001b[0m                                Traceback (most recent call last)",
      "\u001b[1;32m<ipython-input-16-e0d42d84790e>\u001b[0m in \u001b[0;36m<module>\u001b[1;34m()\u001b[0m\n\u001b[0;32m      2\u001b[0m \u001b[1;33m\u001b[0m\u001b[0m\n\u001b[0;32m      3\u001b[0m \u001b[1;31m# scaling\u001b[0m\u001b[1;33m\u001b[0m\u001b[1;33m\u001b[0m\u001b[0m\n\u001b[1;32m----> 4\u001b[1;33m \u001b[0mpatient\u001b[0m \u001b[1;33m=\u001b[0m \u001b[0mscaler\u001b[0m\u001b[1;33m.\u001b[0m\u001b[0mtransform\u001b[0m\u001b[1;33m(\u001b[0m\u001b[0mpatient\u001b[0m\u001b[1;33m.\u001b[0m\u001b[0mreshape\u001b[0m\u001b[1;33m(\u001b[0m\u001b[1;36m1\u001b[0m\u001b[1;33m,\u001b[0m \u001b[1;33m-\u001b[0m\u001b[1;36m1\u001b[0m\u001b[1;33m)\u001b[0m\u001b[1;33m)\u001b[0m\u001b[1;33m\u001b[0m\u001b[0m\n\u001b[0m\u001b[0;32m      5\u001b[0m \u001b[1;33m\u001b[0m\u001b[0m\n\u001b[0;32m      6\u001b[0m \u001b[0mprint\u001b[0m\u001b[1;33m(\u001b[0m\u001b[0mpatient\u001b[0m\u001b[1;33m)\u001b[0m\u001b[1;33m\u001b[0m\u001b[0m\n",
      "\u001b[1;32mD:\\Programs\\Anaconda\\lib\\site-packages\\sklearn\\preprocessing\\data.py\u001b[0m in \u001b[0;36mtransform\u001b[1;34m(self, X, y, copy)\u001b[0m\n\u001b[0;32m    690\u001b[0m         \u001b[1;32melse\u001b[0m\u001b[1;33m:\u001b[0m\u001b[1;33m\u001b[0m\u001b[0m\n\u001b[0;32m    691\u001b[0m             \u001b[1;32mif\u001b[0m \u001b[0mself\u001b[0m\u001b[1;33m.\u001b[0m\u001b[0mwith_mean\u001b[0m\u001b[1;33m:\u001b[0m\u001b[1;33m\u001b[0m\u001b[0m\n\u001b[1;32m--> 692\u001b[1;33m                 \u001b[0mX\u001b[0m \u001b[1;33m-=\u001b[0m \u001b[0mself\u001b[0m\u001b[1;33m.\u001b[0m\u001b[0mmean_\u001b[0m\u001b[1;33m\u001b[0m\u001b[0m\n\u001b[0m\u001b[0;32m    693\u001b[0m             \u001b[1;32mif\u001b[0m \u001b[0mself\u001b[0m\u001b[1;33m.\u001b[0m\u001b[0mwith_std\u001b[0m\u001b[1;33m:\u001b[0m\u001b[1;33m\u001b[0m\u001b[0m\n\u001b[0;32m    694\u001b[0m                 \u001b[0mX\u001b[0m \u001b[1;33m/=\u001b[0m \u001b[0mself\u001b[0m\u001b[1;33m.\u001b[0m\u001b[0mscale_\u001b[0m\u001b[1;33m\u001b[0m\u001b[0m\n",
      "\u001b[1;31mValueError\u001b[0m: operands could not be broadcast together with shapes (1,8) (11,) (1,8) "
     ]
    }
   ],
   "source": [
    "patient = np.array([2,132,74,20,21,24.3,128,37])\n",
    "\n",
    "# scaling\n",
    "patient = scaler.transform(patient.reshape(1, -1))\n",
    "\n",
    "print(patient)\n",
    "y_patient = logreg.predict(patient.reshape(1,-1))\n",
    "y_patient_prob = logreg.predict_proba(patient.reshape(1,-1))\n",
    "print(y_patient)\n",
    "print(y_patient_prob)\n",
    "\n",
    "if y_patient == 0:\n",
    "    print('Patiënt heeft geen diabetes')\n",
    "else:\n",
    "    print('Patiënt heeft diabetes')"
   ]
  },
  {
   "cell_type": "markdown",
   "metadata": {},
   "source": [
    "# SVM zonder kernel (= lineaire kernel)"
   ]
  },
  {
   "cell_type": "markdown",
   "metadata": {},
   "source": [
    "## Initialiseren en trainen van SVM "
   ]
  },
  {
   "cell_type": "code",
   "execution_count": 11,
   "metadata": {},
   "outputs": [
    {
     "data": {
      "text/plain": [
       "SVC(C=0.1, cache_size=200, class_weight=None, coef0=0.0,\n",
       "  decision_function_shape='ovr', degree=3, gamma='auto', kernel='linear',\n",
       "  max_iter=-1, probability=False, random_state=None, shrinking=True,\n",
       "  tol=0.001, verbose=False)"
      ]
     },
     "execution_count": 11,
     "metadata": {},
     "output_type": "execute_result"
    }
   ],
   "source": [
    "SVMlinear = svm.SVC(kernel='linear',C=0.1)\n",
    "SVMlinear.fit(X_train, y_train)"
   ]
  },
  {
   "cell_type": "markdown",
   "metadata": {},
   "source": [
    "## Testen van het model op test set"
   ]
  },
  {
   "cell_type": "code",
   "execution_count": 18,
   "metadata": {},
   "outputs": [
    {
     "name": "stdout",
     "output_type": "stream",
     "text": [
      "             precision    recall  f1-score   support\n",
      "\n",
      "          0       0.86      0.85      0.85      1223\n",
      "          1       0.85      0.86      0.86      1276\n",
      "\n",
      "avg / total       0.86      0.86      0.86      2499\n",
      "\n",
      "[[1036  187]\n",
      " [ 174 1102]]\n",
      "85.5542216887\n"
     ]
    }
   ],
   "source": [
    "y_pred = SVMlinear.predict(X_test)\n",
    "print(classification_report(y_test, y_pred))\n",
    "\n",
    "cf = confusion_matrix(y_test, y_pred)\n",
    "print(cf)\n",
    "print(accuracy_score(y_test, y_pred) * 100) "
   ]
  },
  {
   "cell_type": "markdown",
   "metadata": {},
   "source": [
    "## Predictie op een nieuwe patiënt\n",
    "\n",
    "Pregnancies:2 -\n",
    "Glucose: 132 -\n",
    "BloodPressure: 74 - \n",
    "SkinThickness:20 - \n",
    "Insulin:21 - \n",
    "BMI:24.3 - \n",
    "DiabetesPedigreeFunction:128 - \n",
    "Age: 37"
   ]
  },
  {
   "cell_type": "code",
   "execution_count": 70,
   "metadata": {},
   "outputs": [
    {
     "name": "stdout",
     "output_type": "stream",
     "text": [
      "[0]\n",
      "Patiënt heeft geen diabetes\n"
     ]
    }
   ],
   "source": [
    "patient = np.array([2,132,74,20,21,24.3,128,37])\n",
    "\n",
    "# scaling\n",
    "patient = scaler.transform(patient.reshape(1, -1))\n",
    "\n",
    "y_patient = SVMlinear.predict(patient.reshape(1,-1))\n",
    "print(y_patient)\n",
    "if y_patient == 0:\n",
    "    print('Patiënt heeft geen diabetes')\n",
    "else:\n",
    "    print('Patiënt heeft diabetes')\n"
   ]
  },
  {
   "cell_type": "markdown",
   "metadata": {},
   "source": [
    "# SVM met kernel"
   ]
  },
  {
   "cell_type": "markdown",
   "metadata": {},
   "source": [
    "## Initialiseren en trainen van de SVM"
   ]
  },
  {
   "cell_type": "code",
   "execution_count": 19,
   "metadata": {},
   "outputs": [
    {
     "data": {
      "text/plain": [
       "SVC(C=0.1, cache_size=200, class_weight=None, coef0=0.0,\n",
       "  decision_function_shape='ovr', degree=3, gamma=0.1, kernel='rbf',\n",
       "  max_iter=-1, probability=False, random_state=None, shrinking=True,\n",
       "  tol=0.001, verbose=False)"
      ]
     },
     "execution_count": 19,
     "metadata": {},
     "output_type": "execute_result"
    }
   ],
   "source": [
    "SVMkernel = svm.SVC(kernel='rbf',C=0.1,gamma=0.1)\n",
    "#SVMkernel = svm.SVC(kernel='poly',C=1)\n",
    "SVMkernel.fit(X_train, y_train)"
   ]
  },
  {
   "cell_type": "markdown",
   "metadata": {},
   "source": [
    "## Inlezen van de test set"
   ]
  },
  {
   "cell_type": "code",
   "execution_count": null,
   "metadata": {
    "collapsed": true
   },
   "outputs": [],
   "source": []
  },
  {
   "cell_type": "markdown",
   "metadata": {},
   "source": [
    "## Testen van het model op test set"
   ]
  },
  {
   "cell_type": "code",
   "execution_count": 14,
   "metadata": {},
   "outputs": [
    {
     "ename": "NameError",
     "evalue": "name 'SVMkernel' is not defined",
     "output_type": "error",
     "traceback": [
      "\u001b[1;31m---------------------------------------------------------------------------\u001b[0m",
      "\u001b[1;31mNameError\u001b[0m                                 Traceback (most recent call last)",
      "\u001b[1;32m<ipython-input-14-2e33d76b9bdb>\u001b[0m in \u001b[0;36m<module>\u001b[1;34m()\u001b[0m\n\u001b[1;32m----> 1\u001b[1;33m \u001b[0my_pred\u001b[0m \u001b[1;33m=\u001b[0m \u001b[0mSVMkernel\u001b[0m\u001b[1;33m.\u001b[0m\u001b[0mpredict\u001b[0m\u001b[1;33m(\u001b[0m\u001b[0mX_test\u001b[0m\u001b[1;33m)\u001b[0m\u001b[1;33m\u001b[0m\u001b[0m\n\u001b[0m\u001b[0;32m      2\u001b[0m \u001b[0mprint\u001b[0m\u001b[1;33m(\u001b[0m\u001b[0mclassification_report\u001b[0m\u001b[1;33m(\u001b[0m\u001b[0my_test\u001b[0m\u001b[1;33m,\u001b[0m \u001b[0my_pred\u001b[0m\u001b[1;33m)\u001b[0m\u001b[1;33m)\u001b[0m\u001b[1;33m\u001b[0m\u001b[0m\n\u001b[0;32m      3\u001b[0m \u001b[1;33m\u001b[0m\u001b[0m\n\u001b[0;32m      4\u001b[0m \u001b[0mcf\u001b[0m \u001b[1;33m=\u001b[0m \u001b[0mconfusion_matrix\u001b[0m\u001b[1;33m(\u001b[0m\u001b[0my_test\u001b[0m\u001b[1;33m,\u001b[0m \u001b[0my_pred\u001b[0m\u001b[1;33m)\u001b[0m\u001b[1;33m\u001b[0m\u001b[0m\n\u001b[0;32m      5\u001b[0m \u001b[0mprint\u001b[0m\u001b[1;33m(\u001b[0m\u001b[0mcf\u001b[0m\u001b[1;33m)\u001b[0m\u001b[1;33m\u001b[0m\u001b[0m\n",
      "\u001b[1;31mNameError\u001b[0m: name 'SVMkernel' is not defined"
     ]
    }
   ],
   "source": [
    "y_pred = SVMkernel.predict(X_test)\n",
    "print(classification_report(y_test, y_pred))\n",
    "\n",
    "cf = confusion_matrix(y_test, y_pred)\n",
    "print(cf)\n",
    "print(accuracy_score(y_test, y_pred) * 100) "
   ]
  },
  {
   "cell_type": "markdown",
   "metadata": {},
   "source": [
    "## Predictie op een nieuwe patiënt\n",
    "\n",
    "Pregnancies:2 -\n",
    "Glucose: 132 -\n",
    "BloodPressure: 74 - \n",
    "SkinThickness:20 - \n",
    "Insulin:21 - \n",
    "BMI:24.3 - \n",
    "DiabetesPedigreeFunction:128 - \n",
    "Age: 37"
   ]
  },
  {
   "cell_type": "code",
   "execution_count": 75,
   "metadata": {},
   "outputs": [
    {
     "name": "stdout",
     "output_type": "stream",
     "text": [
      "[0]\n",
      "Patiënt heeft geen diabetes\n"
     ]
    }
   ],
   "source": [
    "patient = np.array([2,132,74,20,21,24.3,128,37])\n",
    "\n",
    "# scaling\n",
    "patient = scaler.transform(patient.reshape(1, -1))\n",
    "\n",
    "y_patient = SVMmodel.predict(patient.reshape(1,-1))\n",
    "print(y_patient)\n",
    "if y_patient == 0:\n",
    "    print('Patiënt heeft geen diabetes')\n",
    "else:\n",
    "    print('Patiënt heeft diabetes')\n"
   ]
  },
  {
   "cell_type": "markdown",
   "metadata": {},
   "source": [
    "# Gridsearch en cross-validation"
   ]
  },
  {
   "cell_type": "markdown",
   "metadata": {},
   "source": [
    "## Gridsearch op logistic regression"
   ]
  },
  {
   "cell_type": "code",
   "execution_count": 21,
   "metadata": {},
   "outputs": [
    {
     "name": "stdout",
     "output_type": "stream",
     "text": [
      "Best accuracy :  0.869\n",
      "Best parameters : {'C': 1}\n",
      "             precision    recall  f1-score   support\n",
      "\n",
      "          0       0.86      0.85      0.85      1223\n",
      "          1       0.86      0.87      0.86      1276\n",
      "\n",
      "avg / total       0.86      0.86      0.86      2499\n",
      "\n",
      "[[1037  186]\n",
      " [ 168 1108]]\n",
      "85.8343337335\n"
     ]
    }
   ],
   "source": [
    "from sklearn.model_selection import GridSearchCV\n",
    "from sklearn.linear_model import LogisticRegression\n",
    "\n",
    "model = LogisticRegression()\n",
    "paramaters = [\n",
    "             {'C' : [0.001, 0.01, 0.1, 1, 10, 100, 1000,10000, 100000]}                                       \n",
    "             ]\n",
    "grid_search = GridSearchCV(estimator = model, \n",
    "                           param_grid = paramaters,\n",
    "                           scoring = 'accuracy',\n",
    "                           cv = 4,\n",
    "                           n_jobs = -1)\n",
    "grid_search = grid_search.fit(X_train, y_train)\n",
    "\n",
    "best_accuracy = grid_search.best_score_ \n",
    "best_parameters = grid_search.best_params_  \n",
    "\n",
    "print('Best accuracy : ', grid_search.best_score_)\n",
    "print('Best parameters :', grid_search.best_params_  )\n",
    "\n",
    "y_pred = grid_search.predict(X_test)\n",
    "print(classification_report(y_test, y_pred))\n",
    "\n",
    "cf = confusion_matrix(y_test, y_pred)\n",
    "print(cf)\n",
    "print(accuracy_score(y_test, y_pred) * 100) "
   ]
  },
  {
   "cell_type": "markdown",
   "metadata": {},
   "source": [
    "## Gridsearch op SVM"
   ]
  },
  {
   "cell_type": "code",
   "execution_count": null,
   "metadata": {
    "collapsed": true
   },
   "outputs": [],
   "source": [
    "from sklearn.model_selection import GridSearchCV\n",
    "from sklearn.svm import SVC\n",
    "\n",
    "model = SVC()\n",
    "paramaters = [ \n",
    "        {'kernel': ['linear'], 'C': np.linspace(1,20,100)},\n",
    "        {'kernel': ['rbf'], 'C': [1, 10], 'gamma': [0.0001, 0.001, 0.01, 0.1, 0.2]},\n",
    "        {'kernel': ['poly'], 'C':[1, 10]} ]\n",
    "grid_search = GridSearchCV(estimator = model, \n",
    "                           param_grid = paramaters,\n",
    "                           scoring = 'accuracy',\n",
    "                           cv = 4,\n",
    "                           n_jobs = -1)\n",
    "grid_search = grid_search.fit(X_train, y_train)\n",
    "\n",
    "best_accuracy = grid_search.best_score_ \n",
    "best_parameters = grid_search.best_params_  \n",
    "\n",
    "print('Best accuracy : ', grid_search.best_score_)\n",
    "print('Best parameters :', grid_search.best_params_  )\n",
    "\n",
    "y_pred = grid_search.predict(X_test)\n",
    "print(classification_report(y_test, y_pred))\n",
    "\n",
    "cf = confusion_matrix(y_test, y_pred)\n",
    "print(cf)\n",
    "print(accuracy_score(y_test, y_pred) * 100) \n",
    "\n",
    "\n"
   ]
  },
  {
   "cell_type": "code",
   "execution_count": null,
   "metadata": {
    "collapsed": true
   },
   "outputs": [],
   "source": []
  }
 ],
 "metadata": {
  "kernelspec": {
   "display_name": "Python 3",
   "language": "python",
   "name": "python3"
  },
  "language_info": {
   "codemirror_mode": {
    "name": "ipython",
    "version": 3
   },
   "file_extension": ".py",
   "mimetype": "text/x-python",
   "name": "python",
   "nbconvert_exporter": "python",
   "pygments_lexer": "ipython3",
   "version": "3.6.2"
  }
 },
 "nbformat": 4,
 "nbformat_minor": 2
}
