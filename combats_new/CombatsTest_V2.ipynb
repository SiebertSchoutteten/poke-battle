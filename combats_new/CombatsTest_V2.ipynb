{
 "cells": [
  {
   "cell_type": "code",
   "execution_count": 74,
   "metadata": {
    "collapsed": true
   },
   "outputs": [],
   "source": [
    "% matplotlib inline\n",
    "import numpy as np\n",
    "import pandas as pd\n",
    "import matplotlib.pyplot as plt\n",
    "from sklearn import linear_model\n",
    "from sklearn import svm\n",
    "\n",
    "from sklearn.model_selection import train_test_split\n",
    "from sklearn.metrics import classification_report\n",
    "from sklearn import preprocessing\n",
    "from sklearn.metrics import confusion_matrix, accuracy_score\n",
    "import seaborn as sns\n",
    "\n",
    "from sklearn.preprocessing import LabelEncoder"
   ]
  },
  {
   "cell_type": "markdown",
   "metadata": {},
   "source": [
    "# Inlezen van de dataset en overzicht"
   ]
  },
  {
   "cell_type": "code",
   "execution_count": 68,
   "metadata": {
    "scrolled": true
   },
   "outputs": [
    {
     "data": {
      "text/html": [
       "<div>\n",
       "<style>\n",
       "    .dataframe thead tr:only-child th {\n",
       "        text-align: right;\n",
       "    }\n",
       "\n",
       "    .dataframe thead th {\n",
       "        text-align: left;\n",
       "    }\n",
       "\n",
       "    .dataframe tbody tr th {\n",
       "        vertical-align: top;\n",
       "    }\n",
       "</style>\n",
       "<table border=\"1\" class=\"dataframe\">\n",
       "  <thead>\n",
       "    <tr style=\"text-align: right;\">\n",
       "      <th></th>\n",
       "      <th>pokemon1</th>\n",
       "      <th>pokemon2</th>\n",
       "      <th>lvldif</th>\n",
       "      <th>a1</th>\n",
       "      <th>a2</th>\n",
       "      <th>a3</th>\n",
       "      <th>a4</th>\n",
       "      <th>b1</th>\n",
       "      <th>b2</th>\n",
       "      <th>b3</th>\n",
       "      <th>b4</th>\n",
       "      <th>win</th>\n",
       "    </tr>\n",
       "  </thead>\n",
       "  <tbody>\n",
       "    <tr>\n",
       "      <th>0</th>\n",
       "      <td>ditto</td>\n",
       "      <td>rhyhorn</td>\n",
       "      <td>-5</td>\n",
       "      <td>light screen</td>\n",
       "      <td>confuse ray</td>\n",
       "      <td>peck</td>\n",
       "      <td>razor wind</td>\n",
       "      <td>take down</td>\n",
       "      <td>hydro pump</td>\n",
       "      <td>leech seed</td>\n",
       "      <td>ice beam</td>\n",
       "      <td>False</td>\n",
       "    </tr>\n",
       "    <tr>\n",
       "      <th>1</th>\n",
       "      <td>machamp</td>\n",
       "      <td>machamp</td>\n",
       "      <td>47</td>\n",
       "      <td>thunder shock</td>\n",
       "      <td>comet punch</td>\n",
       "      <td>headbutt</td>\n",
       "      <td>counter</td>\n",
       "      <td>mimic</td>\n",
       "      <td>strength</td>\n",
       "      <td>growl</td>\n",
       "      <td>thunderbolt</td>\n",
       "      <td>True</td>\n",
       "    </tr>\n",
       "    <tr>\n",
       "      <th>2</th>\n",
       "      <td>tentacool</td>\n",
       "      <td>haunter</td>\n",
       "      <td>79</td>\n",
       "      <td>ice beam</td>\n",
       "      <td>roar</td>\n",
       "      <td>meditate</td>\n",
       "      <td>dizzy punch</td>\n",
       "      <td>sonic boom</td>\n",
       "      <td>barrage</td>\n",
       "      <td>earthquake</td>\n",
       "      <td>thunder punch</td>\n",
       "      <td>True</td>\n",
       "    </tr>\n",
       "    <tr>\n",
       "      <th>3</th>\n",
       "      <td>tentacool</td>\n",
       "      <td>rattata</td>\n",
       "      <td>67</td>\n",
       "      <td>guillotine</td>\n",
       "      <td>psychic</td>\n",
       "      <td>stun spore</td>\n",
       "      <td>string shot</td>\n",
       "      <td>tail whip</td>\n",
       "      <td>guillotine</td>\n",
       "      <td>metronome</td>\n",
       "      <td>roar</td>\n",
       "      <td>True</td>\n",
       "    </tr>\n",
       "    <tr>\n",
       "      <th>4</th>\n",
       "      <td>fearow</td>\n",
       "      <td>charizard</td>\n",
       "      <td>16</td>\n",
       "      <td>ice beam</td>\n",
       "      <td>slash</td>\n",
       "      <td>hypnosis</td>\n",
       "      <td>swift</td>\n",
       "      <td>withdraw</td>\n",
       "      <td>explosion</td>\n",
       "      <td>jump kick</td>\n",
       "      <td>dizzy punch</td>\n",
       "      <td>True</td>\n",
       "    </tr>\n",
       "    <tr>\n",
       "      <th>5</th>\n",
       "      <td>alakazam</td>\n",
       "      <td>pinsir</td>\n",
       "      <td>9</td>\n",
       "      <td>twineedle</td>\n",
       "      <td>stomp</td>\n",
       "      <td>body slam</td>\n",
       "      <td>fire punch</td>\n",
       "      <td>focus energy</td>\n",
       "      <td>egg bomb</td>\n",
       "      <td>roar</td>\n",
       "      <td>explosion</td>\n",
       "      <td>False</td>\n",
       "    </tr>\n",
       "    <tr>\n",
       "      <th>6</th>\n",
       "      <td>staryu</td>\n",
       "      <td>hypno</td>\n",
       "      <td>3</td>\n",
       "      <td>aurora beam</td>\n",
       "      <td>recover</td>\n",
       "      <td>hyper fang</td>\n",
       "      <td>ice beam</td>\n",
       "      <td>fire blast</td>\n",
       "      <td>glare</td>\n",
       "      <td>double kick</td>\n",
       "      <td>clamp</td>\n",
       "      <td>True</td>\n",
       "    </tr>\n",
       "    <tr>\n",
       "      <th>7</th>\n",
       "      <td>ponyta</td>\n",
       "      <td>victreebel</td>\n",
       "      <td>-37</td>\n",
       "      <td>splash</td>\n",
       "      <td>headbutt</td>\n",
       "      <td>sky attack</td>\n",
       "      <td>fly</td>\n",
       "      <td>poison powder</td>\n",
       "      <td>thunder</td>\n",
       "      <td>aurora beam</td>\n",
       "      <td>tri attack</td>\n",
       "      <td>False</td>\n",
       "    </tr>\n",
       "    <tr>\n",
       "      <th>8</th>\n",
       "      <td>porygon</td>\n",
       "      <td>drowzee</td>\n",
       "      <td>-4</td>\n",
       "      <td>slash</td>\n",
       "      <td>tackle</td>\n",
       "      <td>take down</td>\n",
       "      <td>explosion</td>\n",
       "      <td>recover</td>\n",
       "      <td>conversion</td>\n",
       "      <td>hypnosis</td>\n",
       "      <td>flash</td>\n",
       "      <td>True</td>\n",
       "    </tr>\n",
       "    <tr>\n",
       "      <th>9</th>\n",
       "      <td>voltorb</td>\n",
       "      <td>gastly</td>\n",
       "      <td>35</td>\n",
       "      <td>bind</td>\n",
       "      <td>tackle</td>\n",
       "      <td>agility</td>\n",
       "      <td>pay day</td>\n",
       "      <td>peck</td>\n",
       "      <td>slash</td>\n",
       "      <td>jump kick</td>\n",
       "      <td>smog</td>\n",
       "      <td>True</td>\n",
       "    </tr>\n",
       "  </tbody>\n",
       "</table>\n",
       "</div>"
      ],
      "text/plain": [
       "    pokemon1    pokemon2  lvldif             a1           a2          a3  \\\n",
       "0      ditto     rhyhorn      -5   light screen  confuse ray        peck   \n",
       "1    machamp     machamp      47  thunder shock  comet punch    headbutt   \n",
       "2  tentacool     haunter      79       ice beam         roar    meditate   \n",
       "3  tentacool     rattata      67     guillotine      psychic  stun spore   \n",
       "4     fearow   charizard      16       ice beam        slash    hypnosis   \n",
       "5   alakazam      pinsir       9      twineedle        stomp   body slam   \n",
       "6     staryu       hypno       3    aurora beam      recover  hyper fang   \n",
       "7     ponyta  victreebel     -37         splash     headbutt  sky attack   \n",
       "8    porygon     drowzee      -4          slash       tackle   take down   \n",
       "9    voltorb      gastly      35           bind       tackle     agility   \n",
       "\n",
       "            a4             b1          b2           b3             b4    win  \n",
       "0   razor wind      take down  hydro pump   leech seed       ice beam  False  \n",
       "1      counter          mimic    strength        growl    thunderbolt   True  \n",
       "2  dizzy punch     sonic boom     barrage   earthquake  thunder punch   True  \n",
       "3  string shot      tail whip  guillotine    metronome           roar   True  \n",
       "4        swift       withdraw   explosion    jump kick    dizzy punch   True  \n",
       "5   fire punch   focus energy    egg bomb         roar      explosion  False  \n",
       "6     ice beam     fire blast       glare  double kick          clamp   True  \n",
       "7          fly  poison powder     thunder  aurora beam     tri attack  False  \n",
       "8    explosion        recover  conversion     hypnosis          flash   True  \n",
       "9      pay day           peck       slash    jump kick           smog   True  "
      ]
     },
     "execution_count": 68,
     "metadata": {},
     "output_type": "execute_result"
    }
   ],
   "source": [
    "#Inlezen van de dataset\n",
    "dataset = pd.read_csv('combats_new.csv')\n",
    "\n",
    "df = pd.DataFrame(dataset)\n",
    "\n",
    "dataset.head(10)"
   ]
  },
  {
   "cell_type": "code",
   "execution_count": 70,
   "metadata": {},
   "outputs": [
    {
     "data": {
      "text/html": [
       "<div>\n",
       "<style>\n",
       "    .dataframe thead tr:only-child th {\n",
       "        text-align: right;\n",
       "    }\n",
       "\n",
       "    .dataframe thead th {\n",
       "        text-align: left;\n",
       "    }\n",
       "\n",
       "    .dataframe tbody tr th {\n",
       "        vertical-align: top;\n",
       "    }\n",
       "</style>\n",
       "<table border=\"1\" class=\"dataframe\">\n",
       "  <thead>\n",
       "    <tr style=\"text-align: right;\">\n",
       "      <th></th>\n",
       "      <th>pokemon1</th>\n",
       "      <th>pokemon2</th>\n",
       "      <th>a1</th>\n",
       "      <th>a2</th>\n",
       "      <th>a3</th>\n",
       "      <th>a4</th>\n",
       "      <th>b1</th>\n",
       "      <th>b2</th>\n",
       "      <th>b3</th>\n",
       "      <th>b4</th>\n",
       "      <th>win</th>\n",
       "      <th>lvldif</th>\n",
       "    </tr>\n",
       "  </thead>\n",
       "  <tbody>\n",
       "    <tr>\n",
       "      <th>0</th>\n",
       "      <td>22</td>\n",
       "      <td>116</td>\n",
       "      <td>75</td>\n",
       "      <td>19</td>\n",
       "      <td>89</td>\n",
       "      <td>102</td>\n",
       "      <td>145</td>\n",
       "      <td>62</td>\n",
       "      <td>72</td>\n",
       "      <td>66</td>\n",
       "      <td>0</td>\n",
       "      <td>-5</td>\n",
       "    </tr>\n",
       "    <tr>\n",
       "      <th>1</th>\n",
       "      <td>70</td>\n",
       "      <td>70</td>\n",
       "      <td>150</td>\n",
       "      <td>18</td>\n",
       "      <td>58</td>\n",
       "      <td>23</td>\n",
       "      <td>83</td>\n",
       "      <td>132</td>\n",
       "      <td>52</td>\n",
       "      <td>152</td>\n",
       "      <td>1</td>\n",
       "      <td>47</td>\n",
       "    </tr>\n",
       "    <tr>\n",
       "      <th>2</th>\n",
       "      <td>133</td>\n",
       "      <td>51</td>\n",
       "      <td>66</td>\n",
       "      <td>106</td>\n",
       "      <td>78</td>\n",
       "      <td>29</td>\n",
       "      <td>127</td>\n",
       "      <td>6</td>\n",
       "      <td>37</td>\n",
       "      <td>149</td>\n",
       "      <td>1</td>\n",
       "      <td>79</td>\n",
       "    </tr>\n",
       "    <tr>\n",
       "      <th>3</th>\n",
       "      <td>133</td>\n",
       "      <td>114</td>\n",
       "      <td>54</td>\n",
       "      <td>97</td>\n",
       "      <td>135</td>\n",
       "      <td>133</td>\n",
       "      <td>144</td>\n",
       "      <td>54</td>\n",
       "      <td>82</td>\n",
       "      <td>106</td>\n",
       "      <td>1</td>\n",
       "      <td>67</td>\n",
       "    </tr>\n",
       "    <tr>\n",
       "      <th>4</th>\n",
       "      <td>37</td>\n",
       "      <td>13</td>\n",
       "      <td>66</td>\n",
       "      <td>120</td>\n",
       "      <td>65</td>\n",
       "      <td>141</td>\n",
       "      <td>163</td>\n",
       "      <td>40</td>\n",
       "      <td>68</td>\n",
       "      <td>29</td>\n",
       "      <td>1</td>\n",
       "      <td>16</td>\n",
       "    </tr>\n",
       "    <tr>\n",
       "      <th>5</th>\n",
       "      <td>2</td>\n",
       "      <td>103</td>\n",
       "      <td>156</td>\n",
       "      <td>131</td>\n",
       "      <td>12</td>\n",
       "      <td>42</td>\n",
       "      <td>48</td>\n",
       "      <td>38</td>\n",
       "      <td>106</td>\n",
       "      <td>40</td>\n",
       "      <td>0</td>\n",
       "      <td>9</td>\n",
       "    </tr>\n",
       "    <tr>\n",
       "      <th>6</th>\n",
       "      <td>130</td>\n",
       "      <td>55</td>\n",
       "      <td>5</td>\n",
       "      <td>103</td>\n",
       "      <td>64</td>\n",
       "      <td>66</td>\n",
       "      <td>41</td>\n",
       "      <td>51</td>\n",
       "      <td>30</td>\n",
       "      <td>17</td>\n",
       "      <td>1</td>\n",
       "      <td>3</td>\n",
       "    </tr>\n",
       "    <tr>\n",
       "      <th>7</th>\n",
       "      <td>107</td>\n",
       "      <td>139</td>\n",
       "      <td>129</td>\n",
       "      <td>58</td>\n",
       "      <td>118</td>\n",
       "      <td>47</td>\n",
       "      <td>93</td>\n",
       "      <td>148</td>\n",
       "      <td>5</td>\n",
       "      <td>155</td>\n",
       "      <td>0</td>\n",
       "      <td>-37</td>\n",
       "    </tr>\n",
       "    <tr>\n",
       "      <th>8</th>\n",
       "      <td>108</td>\n",
       "      <td>28</td>\n",
       "      <td>120</td>\n",
       "      <td>143</td>\n",
       "      <td>145</td>\n",
       "      <td>40</td>\n",
       "      <td>103</td>\n",
       "      <td>22</td>\n",
       "      <td>65</td>\n",
       "      <td>46</td>\n",
       "      <td>1</td>\n",
       "      <td>-4</td>\n",
       "    </tr>\n",
       "    <tr>\n",
       "      <th>9</th>\n",
       "      <td>141</td>\n",
       "      <td>39</td>\n",
       "      <td>9</td>\n",
       "      <td>143</td>\n",
       "      <td>3</td>\n",
       "      <td>88</td>\n",
       "      <td>89</td>\n",
       "      <td>120</td>\n",
       "      <td>68</td>\n",
       "      <td>123</td>\n",
       "      <td>1</td>\n",
       "      <td>35</td>\n",
       "    </tr>\n",
       "  </tbody>\n",
       "</table>\n",
       "</div>"
      ],
      "text/plain": [
       "   pokemon1  pokemon2   a1   a2   a3   a4   b1   b2   b3   b4  win  lvldif\n",
       "0        22       116   75   19   89  102  145   62   72   66    0      -5\n",
       "1        70        70  150   18   58   23   83  132   52  152    1      47\n",
       "2       133        51   66  106   78   29  127    6   37  149    1      79\n",
       "3       133       114   54   97  135  133  144   54   82  106    1      67\n",
       "4        37        13   66  120   65  141  163   40   68   29    1      16\n",
       "5         2       103  156  131   12   42   48   38  106   40    0       9\n",
       "6       130        55    5  103   64   66   41   51   30   17    1       3\n",
       "7       107       139  129   58  118   47   93  148    5  155    0     -37\n",
       "8       108        28  120  143  145   40  103   22   65   46    1      -4\n",
       "9       141        39    9  143    3   88   89  120   68  123    1      35"
      ]
     },
     "execution_count": 70,
     "metadata": {},
     "output_type": "execute_result"
    }
   ],
   "source": [
    "x = df.select_dtypes(exclude=['number']) \\\n",
    "                .apply(LabelEncoder().fit_transform) \\\n",
    "                .join(df.select_dtypes(include=['number']))\n",
    "        \n",
    "x.head(10)"
   ]
  },
  {
   "cell_type": "code",
   "execution_count": null,
   "metadata": {},
   "outputs": [],
   "source": []
  },
  {
   "cell_type": "code",
   "execution_count": null,
   "metadata": {},
   "outputs": [],
   "source": []
  },
  {
   "cell_type": "code",
   "execution_count": 72,
   "metadata": {},
   "outputs": [
    {
     "data": {
      "text/html": [
       "<div>\n",
       "<style>\n",
       "    .dataframe thead tr:only-child th {\n",
       "        text-align: right;\n",
       "    }\n",
       "\n",
       "    .dataframe thead th {\n",
       "        text-align: left;\n",
       "    }\n",
       "\n",
       "    .dataframe tbody tr th {\n",
       "        vertical-align: top;\n",
       "    }\n",
       "</style>\n",
       "<table border=\"1\" class=\"dataframe\">\n",
       "  <thead>\n",
       "    <tr style=\"text-align: right;\">\n",
       "      <th></th>\n",
       "      <th>pokemon1</th>\n",
       "      <th>pokemon2</th>\n",
       "      <th>a1</th>\n",
       "      <th>a2</th>\n",
       "      <th>a3</th>\n",
       "      <th>a4</th>\n",
       "      <th>b1</th>\n",
       "      <th>b2</th>\n",
       "      <th>b3</th>\n",
       "      <th>b4</th>\n",
       "      <th>win</th>\n",
       "      <th>lvldif</th>\n",
       "    </tr>\n",
       "  </thead>\n",
       "  <tbody>\n",
       "    <tr>\n",
       "      <th>count</th>\n",
       "      <td>10000.000000</td>\n",
       "      <td>10000.000000</td>\n",
       "      <td>10000.000000</td>\n",
       "      <td>10000.000000</td>\n",
       "      <td>10000.000000</td>\n",
       "      <td>10000.000000</td>\n",
       "      <td>10000.000000</td>\n",
       "      <td>10000.000000</td>\n",
       "      <td>10000.000000</td>\n",
       "      <td>10000.000000</td>\n",
       "      <td>10000.000000</td>\n",
       "      <td>10000.000000</td>\n",
       "    </tr>\n",
       "    <tr>\n",
       "      <th>mean</th>\n",
       "      <td>74.652300</td>\n",
       "      <td>73.838800</td>\n",
       "      <td>81.726500</td>\n",
       "      <td>81.873900</td>\n",
       "      <td>82.365600</td>\n",
       "      <td>81.878900</td>\n",
       "      <td>82.273800</td>\n",
       "      <td>81.564700</td>\n",
       "      <td>81.669200</td>\n",
       "      <td>81.529000</td>\n",
       "      <td>0.501800</td>\n",
       "      <td>-0.153500</td>\n",
       "    </tr>\n",
       "    <tr>\n",
       "      <th>std</th>\n",
       "      <td>43.497386</td>\n",
       "      <td>43.049657</td>\n",
       "      <td>47.306973</td>\n",
       "      <td>47.780591</td>\n",
       "      <td>47.402813</td>\n",
       "      <td>47.398704</td>\n",
       "      <td>47.667608</td>\n",
       "      <td>47.317687</td>\n",
       "      <td>47.209252</td>\n",
       "      <td>47.145734</td>\n",
       "      <td>0.500022</td>\n",
       "      <td>40.458977</td>\n",
       "    </tr>\n",
       "    <tr>\n",
       "      <th>min</th>\n",
       "      <td>0.000000</td>\n",
       "      <td>0.000000</td>\n",
       "      <td>0.000000</td>\n",
       "      <td>0.000000</td>\n",
       "      <td>0.000000</td>\n",
       "      <td>0.000000</td>\n",
       "      <td>0.000000</td>\n",
       "      <td>0.000000</td>\n",
       "      <td>0.000000</td>\n",
       "      <td>0.000000</td>\n",
       "      <td>0.000000</td>\n",
       "      <td>-97.000000</td>\n",
       "    </tr>\n",
       "    <tr>\n",
       "      <th>25%</th>\n",
       "      <td>36.000000</td>\n",
       "      <td>37.000000</td>\n",
       "      <td>41.000000</td>\n",
       "      <td>40.000000</td>\n",
       "      <td>41.000000</td>\n",
       "      <td>41.000000</td>\n",
       "      <td>41.000000</td>\n",
       "      <td>41.000000</td>\n",
       "      <td>41.000000</td>\n",
       "      <td>41.000000</td>\n",
       "      <td>0.000000</td>\n",
       "      <td>-30.000000</td>\n",
       "    </tr>\n",
       "    <tr>\n",
       "      <th>50%</th>\n",
       "      <td>75.000000</td>\n",
       "      <td>73.000000</td>\n",
       "      <td>82.000000</td>\n",
       "      <td>82.000000</td>\n",
       "      <td>83.000000</td>\n",
       "      <td>82.000000</td>\n",
       "      <td>82.500000</td>\n",
       "      <td>82.000000</td>\n",
       "      <td>82.000000</td>\n",
       "      <td>81.500000</td>\n",
       "      <td>1.000000</td>\n",
       "      <td>0.000000</td>\n",
       "    </tr>\n",
       "    <tr>\n",
       "      <th>75%</th>\n",
       "      <td>112.000000</td>\n",
       "      <td>111.000000</td>\n",
       "      <td>123.000000</td>\n",
       "      <td>124.000000</td>\n",
       "      <td>123.000000</td>\n",
       "      <td>123.000000</td>\n",
       "      <td>124.000000</td>\n",
       "      <td>122.000000</td>\n",
       "      <td>123.000000</td>\n",
       "      <td>122.000000</td>\n",
       "      <td>1.000000</td>\n",
       "      <td>29.000000</td>\n",
       "    </tr>\n",
       "    <tr>\n",
       "      <th>max</th>\n",
       "      <td>149.000000</td>\n",
       "      <td>149.000000</td>\n",
       "      <td>163.000000</td>\n",
       "      <td>163.000000</td>\n",
       "      <td>163.000000</td>\n",
       "      <td>163.000000</td>\n",
       "      <td>163.000000</td>\n",
       "      <td>163.000000</td>\n",
       "      <td>163.000000</td>\n",
       "      <td>163.000000</td>\n",
       "      <td>1.000000</td>\n",
       "      <td>97.000000</td>\n",
       "    </tr>\n",
       "  </tbody>\n",
       "</table>\n",
       "</div>"
      ],
      "text/plain": [
       "           pokemon1      pokemon2            a1            a2            a3  \\\n",
       "count  10000.000000  10000.000000  10000.000000  10000.000000  10000.000000   \n",
       "mean      74.652300     73.838800     81.726500     81.873900     82.365600   \n",
       "std       43.497386     43.049657     47.306973     47.780591     47.402813   \n",
       "min        0.000000      0.000000      0.000000      0.000000      0.000000   \n",
       "25%       36.000000     37.000000     41.000000     40.000000     41.000000   \n",
       "50%       75.000000     73.000000     82.000000     82.000000     83.000000   \n",
       "75%      112.000000    111.000000    123.000000    124.000000    123.000000   \n",
       "max      149.000000    149.000000    163.000000    163.000000    163.000000   \n",
       "\n",
       "                 a4            b1            b2            b3            b4  \\\n",
       "count  10000.000000  10000.000000  10000.000000  10000.000000  10000.000000   \n",
       "mean      81.878900     82.273800     81.564700     81.669200     81.529000   \n",
       "std       47.398704     47.667608     47.317687     47.209252     47.145734   \n",
       "min        0.000000      0.000000      0.000000      0.000000      0.000000   \n",
       "25%       41.000000     41.000000     41.000000     41.000000     41.000000   \n",
       "50%       82.000000     82.500000     82.000000     82.000000     81.500000   \n",
       "75%      123.000000    124.000000    122.000000    123.000000    122.000000   \n",
       "max      163.000000    163.000000    163.000000    163.000000    163.000000   \n",
       "\n",
       "                win        lvldif  \n",
       "count  10000.000000  10000.000000  \n",
       "mean       0.501800     -0.153500  \n",
       "std        0.500022     40.458977  \n",
       "min        0.000000    -97.000000  \n",
       "25%        0.000000    -30.000000  \n",
       "50%        1.000000      0.000000  \n",
       "75%        1.000000     29.000000  \n",
       "max        1.000000     97.000000  "
      ]
     },
     "execution_count": 72,
     "metadata": {},
     "output_type": "execute_result"
    }
   ],
   "source": [
    "# Beschrijvende statistische analyse\n",
    "x.describe()"
   ]
  },
  {
   "cell_type": "markdown",
   "metadata": {},
   "source": [
    "# Visualiseren van de dataset"
   ]
  },
  {
   "cell_type": "code",
   "execution_count": 73,
   "metadata": {},
   "outputs": [
    {
     "data": {
      "text/plain": [
       "array([[<matplotlib.axes._subplots.AxesSubplot object at 0x000001BC880900F0>,\n",
       "        <matplotlib.axes._subplots.AxesSubplot object at 0x000001BC87FBE518>,\n",
       "        <matplotlib.axes._subplots.AxesSubplot object at 0x000001BC8813DA90>],\n",
       "       [<matplotlib.axes._subplots.AxesSubplot object at 0x000001BC88222A90>,\n",
       "        <matplotlib.axes._subplots.AxesSubplot object at 0x000001BC88290160>,\n",
       "        <matplotlib.axes._subplots.AxesSubplot object at 0x000001BC88290198>],\n",
       "       [<matplotlib.axes._subplots.AxesSubplot object at 0x000001BC88357CF8>,\n",
       "        <matplotlib.axes._subplots.AxesSubplot object at 0x000001BC883B48D0>,\n",
       "        <matplotlib.axes._subplots.AxesSubplot object at 0x000001BC8841EF60>],\n",
       "       [<matplotlib.axes._subplots.AxesSubplot object at 0x000001BC884855C0>,\n",
       "        <matplotlib.axes._subplots.AxesSubplot object at 0x000001BC884F2D30>,\n",
       "        <matplotlib.axes._subplots.AxesSubplot object at 0x000001BC88560CC0>]], dtype=object)"
      ]
     },
     "execution_count": 73,
     "metadata": {},
     "output_type": "execute_result"
    },
    {
     "data": {
      "image/png": "[encoded data removed]",
      "text/plain": [
       "<matplotlib.figure.Figure at 0x1bc8807ed30>"
      ]
     },
     "metadata": {},
     "output_type": "display_data"
    }
   ],
   "source": [
    "# Histogram\n",
    "x.hist(figsize=(15,8))"
   ]
  },
  {
   "cell_type": "code",
   "execution_count": 88,
   "metadata": {},
   "outputs": [
    {
     "data": {
      "text/plain": [
       "pokemon1        Axes(0.125,0.71587;0.168478x0.16413)\n",
       "pokemon2     Axes(0.327174,0.71587;0.168478x0.16413)\n",
       "a1           Axes(0.529348,0.71587;0.168478x0.16413)\n",
       "a2           Axes(0.731522,0.71587;0.168478x0.16413)\n",
       "a3             Axes(0.125,0.518913;0.168478x0.16413)\n",
       "a4          Axes(0.327174,0.518913;0.168478x0.16413)\n",
       "b1          Axes(0.529348,0.518913;0.168478x0.16413)\n",
       "b2          Axes(0.731522,0.518913;0.168478x0.16413)\n",
       "b3             Axes(0.125,0.321957;0.168478x0.16413)\n",
       "b4          Axes(0.327174,0.321957;0.168478x0.16413)\n",
       "win         Axes(0.529348,0.321957;0.168478x0.16413)\n",
       "lvldif      Axes(0.731522,0.321957;0.168478x0.16413)\n",
       "dtype: object"
      ]
     },
     "execution_count": 88,
     "metadata": {},
     "output_type": "execute_result"
    },
    {
     "data": {
      "image/png": "[encoded data removed]",
      "text/plain": [
       "<matplotlib.figure.Figure at 0x1bca40c3d68>"
      ]
     },
     "metadata": {},
     "output_type": "display_data"
    }
   ],
   "source": [
    "# Box plot\n",
    "x.plot(kind= 'box' , subplots=True, layout=(4,4), sharex=False, sharey=False, figsize=(10,8))"
   ]
  },
  {
   "cell_type": "code",
   "execution_count": 84,
   "metadata": {},
   "outputs": [
    {
     "data": {
      "text/plain": [
       "<matplotlib.axes._subplots.AxesSubplot at 0x1bc938a9780>"
      ]
     },
     "execution_count": 84,
     "metadata": {},
     "output_type": "execute_result"
    },
    {
     "data": {
      "image/png": "[encoded data removed]",
      "text/plain": [
       "<matplotlib.figure.Figure at 0x1bc8a646438>"
      ]
     },
     "metadata": {},
     "output_type": "display_data"
    }
   ],
   "source": [
    "# Correlation plot\n",
    "Corr=x[x.columns].corr() \n",
    "sns.heatmap(Corr, annot=True)"
   ]
  },
  {
   "cell_type": "markdown",
   "metadata": {},
   "source": [
    "# Preprocessing en opsplitsen in training en test set"
   ]
  },
  {
   "cell_type": "code",
   "execution_count": 114,
   "metadata": {},
   "outputs": [
    {
     "name": "stdout",
     "output_type": "stream",
     "text": [
      "['pokemon1', 'pokemon2', 'lvldif']\n",
      "(10000, 3)\n"
     ]
    }
   ],
   "source": [
    "# Opsplitsen in features en targets\n",
    "\n",
    "features = list(x[['pokemon1','pokemon2','lvldif']])\n",
    "print(features)\n",
    "X = x[features].values\n",
    "\n",
    "y= x['win'].values\n",
    "\n",
    "# Opsplitsen van data in een training en test set\n",
    "\n",
    "print(X.shape)"
   ]
  },
  {
   "cell_type": "markdown",
   "metadata": {},
   "source": [
    "# Logistic regression"
   ]
  },
  {
   "cell_type": "markdown",
   "metadata": {},
   "source": [
    "## Initialiseren en trainen van de logistic regression classifier"
   ]
  },
  {
   "cell_type": "code",
   "execution_count": 26,
   "metadata": {
    "collapsed": true
   },
   "outputs": [],
   "source": []
  },
  {
   "cell_type": "code",
   "execution_count": 115,
   "metadata": {},
   "outputs": [
    {
     "name": "stdout",
     "output_type": "stream",
     "text": [
      "De bias = theta_0:  [  2.27243745e-05]\n",
      "De coefficienten theta:  [[-0.00026546  0.0006843   0.08109099]]\n"
     ]
    }
   ],
   "source": [
    "# Initialiseren van de logistic regression classifier\n",
    "\n",
    "logreg = linear_model.LogisticRegression(C=1,class_weight= None)\n",
    "\n",
    "#logreg = linear_model.LogisticRegression(C=1,class_weight= 'balanced')\n",
    "\n",
    "# Training van het model\n",
    "logreg.fit(X, y)\n",
    "\n",
    "print('De bias = theta_0: ', logreg.intercept_)\n",
    "print('De coefficienten theta: ',logreg.coef_)"
   ]
  },
  {
   "cell_type": "markdown",
   "metadata": {},
   "source": [
    "## Testen van het model op de test set"
   ]
  },
  {
   "cell_type": "code",
   "execution_count": 32,
   "metadata": {},
   "outputs": [
    {
     "name": "stdout",
     "output_type": "stream",
     "text": [
      "             precision    recall  f1-score   support\n",
      "\n",
      "          0       0.75      0.85      0.80        48\n",
      "          1       0.67      0.50      0.57        28\n",
      "\n",
      "avg / total       0.72      0.72      0.71        76\n",
      "\n",
      "[[41  7]\n",
      " [14 14]]\n",
      "72.3684210526\n"
     ]
    }
   ],
   "source": [
    "# Testen van het model op de test set\n",
    "\n",
    "y_pred = logreg.predict(X_test)\n",
    "print(classification_report(y_test, y_pred))\n",
    "\n",
    "cf = confusion_matrix(y_test, y_pred)\n",
    "print(cf)\n",
    "print(accuracy_score(y_test, y_pred) * 100) "
   ]
  },
  {
   "cell_type": "markdown",
   "metadata": {},
   "source": [
    "## Predictie op een nieuwe patiënt\n",
    "\n",
    "Pregnancies:2 -\n",
    "Glucose: 132 -\n",
    "BloodPressure: 74 - \n",
    "SkinThickness:20 - \n",
    "Insulin:21 - \n",
    "BMI:24.3 - \n",
    "DiabetesPedigreeFunction:128 - \n",
    "Age: 37"
   ]
  },
  {
   "cell_type": "code",
   "execution_count": 50,
   "metadata": {},
   "outputs": [
    {
     "name": "stdout",
     "output_type": "stream",
     "text": [
      "[[-0.41420941  0.30209759  0.25992289 -0.84670314 -1.13434945 -1.2724308\n",
      "  -1.0725144   0.62170047]]\n",
      "[0]\n",
      "[[ 0.85859249  0.14140751]]\n",
      "Patiënt heeft geen diabetes\n"
     ]
    }
   ],
   "source": [
    "patient = np.array([2,132,74,20,21,24.3,128,37])\n",
    "\n",
    "# scaling\n",
    "patient = scaler.transform(patient.reshape(1, -1))\n",
    "\n",
    "print(patient)\n",
    "y_patient = logreg.predict(patient.reshape(1,-1))\n",
    "y_patient_prob = logreg.predict_proba(patient.reshape(1,-1))\n",
    "print(y_patient)\n",
    "print(y_patient_prob)\n",
    "\n",
    "if y_patient == 0:\n",
    "    print('Patiënt heeft geen diabetes')\n",
    "else:\n",
    "    print('Patiënt heeft diabetes')"
   ]
  },
  {
   "cell_type": "markdown",
   "metadata": {},
   "source": [
    "# SVM zonder kernel (= lineaire kernel)"
   ]
  },
  {
   "cell_type": "markdown",
   "metadata": {},
   "source": [
    "## Initialiseren en trainen van SVM "
   ]
  },
  {
   "cell_type": "code",
   "execution_count": 67,
   "metadata": {},
   "outputs": [
    {
     "data": {
      "text/plain": [
       "SVC(C=0.1, cache_size=200, class_weight=None, coef0=0.0,\n",
       "  decision_function_shape=None, degree=3, gamma='auto', kernel='linear',\n",
       "  max_iter=-1, probability=False, random_state=None, shrinking=True,\n",
       "  tol=0.001, verbose=False)"
      ]
     },
     "execution_count": 67,
     "metadata": {},
     "output_type": "execute_result"
    }
   ],
   "source": [
    "SVMlinear = svm.SVC(kernel='linear',C=0.1)\n",
    "SVMlinear.fit(X_train, y_train)"
   ]
  },
  {
   "cell_type": "markdown",
   "metadata": {},
   "source": [
    "## Testen van het model op test set"
   ]
  },
  {
   "cell_type": "code",
   "execution_count": 68,
   "metadata": {},
   "outputs": [
    {
     "name": "stdout",
     "output_type": "stream",
     "text": [
      "             precision    recall  f1-score   support\n",
      "\n",
      "          0       0.74      0.90      0.81        48\n",
      "          1       0.72      0.46      0.57        28\n",
      "\n",
      "avg / total       0.73      0.74      0.72        76\n",
      "\n",
      "[[43  5]\n",
      " [15 13]]\n",
      "73.6842105263\n"
     ]
    }
   ],
   "source": [
    "y_pred = SVMlinear.predict(X_test)\n",
    "print(classification_report(y_test, y_pred))\n",
    "\n",
    "cf = confusion_matrix(y_test, y_pred)\n",
    "print(cf)\n",
    "print(accuracy_score(y_test, y_pred) * 100) "
   ]
  },
  {
   "cell_type": "markdown",
   "metadata": {},
   "source": [
    "## Predictie op een nieuwe patiënt\n",
    "\n",
    "Pregnancies:2 -\n",
    "Glucose: 132 -\n",
    "BloodPressure: 74 - \n",
    "SkinThickness:20 - \n",
    "Insulin:21 - \n",
    "BMI:24.3 - \n",
    "DiabetesPedigreeFunction:128 - \n",
    "Age: 37"
   ]
  },
  {
   "cell_type": "code",
   "execution_count": 70,
   "metadata": {},
   "outputs": [
    {
     "name": "stdout",
     "output_type": "stream",
     "text": [
      "[0]\n",
      "Patiënt heeft geen diabetes\n"
     ]
    }
   ],
   "source": [
    "patient = np.array([2,132,74,20,21,24.3,128,37])\n",
    "\n",
    "# scaling\n",
    "patient = scaler.transform(patient.reshape(1, -1))\n",
    "\n",
    "y_patient = SVMlinear.predict(patient.reshape(1,-1))\n",
    "print(y_patient)\n",
    "if y_patient == 0:\n",
    "    print('Patiënt heeft geen diabetes')\n",
    "else:\n",
    "    print('Patiënt heeft diabetes')\n"
   ]
  },
  {
   "cell_type": "markdown",
   "metadata": {},
   "source": [
    "# SVM met kernel"
   ]
  },
  {
   "cell_type": "markdown",
   "metadata": {},
   "source": [
    "## Initialiseren en trainen van de SVM"
   ]
  },
  {
   "cell_type": "code",
   "execution_count": 73,
   "metadata": {},
   "outputs": [
    {
     "data": {
      "text/plain": [
       "SVC(C=0.1, cache_size=200, class_weight=None, coef0=0.0,\n",
       "  decision_function_shape=None, degree=3, gamma=0.1, kernel='rbf',\n",
       "  max_iter=-1, probability=False, random_state=None, shrinking=True,\n",
       "  tol=0.001, verbose=False)"
      ]
     },
     "execution_count": 73,
     "metadata": {},
     "output_type": "execute_result"
    }
   ],
   "source": [
    "SVMkernel = svm.SVC(kernel='rbf',C=0.1,gamma=0.1)\n",
    "#SVMkernel = svm.SVC(kernel='poly',C=1)\n",
    "SVMkernel.fit(X_train, y_train)"
   ]
  },
  {
   "cell_type": "markdown",
   "metadata": {},
   "source": [
    "## Testen van het model op test set"
   ]
  },
  {
   "cell_type": "code",
   "execution_count": 74,
   "metadata": {},
   "outputs": [
    {
     "name": "stdout",
     "output_type": "stream",
     "text": [
      "             precision    recall  f1-score   support\n",
      "\n",
      "          0       0.69      0.98      0.81        48\n",
      "          1       0.88      0.25      0.39        28\n",
      "\n",
      "avg / total       0.76      0.71      0.66        76\n",
      "\n",
      "[[47  1]\n",
      " [21  7]]\n",
      "71.0526315789\n"
     ]
    }
   ],
   "source": [
    "y_pred = SVMkernel.predict(X_test)\n",
    "print(classification_report(y_test, y_pred))\n",
    "\n",
    "cf = confusion_matrix(y_test, y_pred)\n",
    "print(cf)\n",
    "print(accuracy_score(y_test, y_pred) * 100) "
   ]
  },
  {
   "cell_type": "markdown",
   "metadata": {},
   "source": [
    "## Predictie op een nieuwe patiënt\n",
    "\n",
    "Pregnancies:2 -\n",
    "Glucose: 132 -\n",
    "BloodPressure: 74 - \n",
    "SkinThickness:20 - \n",
    "Insulin:21 - \n",
    "BMI:24.3 - \n",
    "DiabetesPedigreeFunction:128 - \n",
    "Age: 37"
   ]
  },
  {
   "cell_type": "code",
   "execution_count": 75,
   "metadata": {},
   "outputs": [
    {
     "name": "stdout",
     "output_type": "stream",
     "text": [
      "[0]\n",
      "Patiënt heeft geen diabetes\n"
     ]
    }
   ],
   "source": [
    "patient = np.array([2,132,74,20,21,24.3,128,37])\n",
    "\n",
    "# scaling\n",
    "patient = scaler.transform(patient.reshape(1, -1))\n",
    "\n",
    "y_patient = SVMmodel.predict(patient.reshape(1,-1))\n",
    "print(y_patient)\n",
    "if y_patient == 0:\n",
    "    print('Patiënt heeft geen diabetes')\n",
    "else:\n",
    "    print('Patiënt heeft diabetes')\n"
   ]
  },
  {
   "cell_type": "markdown",
   "metadata": {},
   "source": [
    "# Gridsearch en cross-validation"
   ]
  },
  {
   "cell_type": "markdown",
   "metadata": {},
   "source": [
    "## Gridsearch op logistic regression"
   ]
  },
  {
   "cell_type": "code",
   "execution_count": 119,
   "metadata": {},
   "outputs": [
    {
     "name": "stdout",
     "output_type": "stream",
     "text": [
      "Best accuracy :  0.802631578947\n",
      "Best parameters : {'C': 100}\n",
      "             precision    recall  f1-score   support\n",
      "\n",
      "          0       0.73      0.85      0.79        48\n",
      "          1       0.65      0.46      0.54        28\n",
      "\n",
      "avg / total       0.70      0.71      0.70        76\n",
      "\n",
      "[[41  7]\n",
      " [15 13]]\n",
      "71.0526315789\n"
     ]
    }
   ],
   "source": [
    "from sklearn.model_selection import GridSearchCV\n",
    "from sklearn.linear_model import LogisticRegression\n",
    "\n",
    "model = LogisticRegression()\n",
    "paramaters = [\n",
    "             {'C' : [0.001, 0.01, 0.1, 1, 10, 100, 1000,10000, 100000]}                                       \n",
    "             ]\n",
    "grid_search = GridSearchCV(estimator = model, \n",
    "                           param_grid = paramaters,\n",
    "                           scoring = 'accuracy',\n",
    "                           cv = 4,\n",
    "                           n_jobs = -1)\n",
    "grid_search = grid_search.fit(X_train, y_train)\n",
    "\n",
    "best_accuracy = grid_search.best_score_ \n",
    "best_parameters = grid_search.best_params_  \n",
    "\n",
    "print('Best accuracy : ', grid_search.best_score_)\n",
    "print('Best parameters :', grid_search.best_params_  )\n",
    "\n",
    "y_pred = grid_search.predict(X_test)\n",
    "print(classification_report(y_test, y_pred))\n",
    "\n",
    "cf = confusion_matrix(y_test, y_pred)\n",
    "print(cf)\n",
    "print(accuracy_score(y_test, y_pred) * 100) "
   ]
  },
  {
   "cell_type": "markdown",
   "metadata": {},
   "source": [
    "## Gridsearch op SVM"
   ]
  },
  {
   "cell_type": "code",
   "execution_count": 151,
   "metadata": {},
   "outputs": [
    {
     "name": "stdout",
     "output_type": "stream",
     "text": [
      "Best accuracy :  0.805921052632\n",
      "Best parameters : {'C': 1.3838383838383839, 'kernel': 'linear'}\n",
      "             precision    recall  f1-score   support\n",
      "\n",
      "          0       0.75      0.88      0.81        48\n",
      "          1       0.70      0.50      0.58        28\n",
      "\n",
      "avg / total       0.73      0.74      0.73        76\n",
      "\n",
      "[[42  6]\n",
      " [14 14]]\n",
      "73.6842105263\n"
     ]
    }
   ],
   "source": [
    "from sklearn.model_selection import GridSearchCV\n",
    "from sklearn.svm import SVC\n",
    "\n",
    "model = SVC()\n",
    "paramaters = [ \n",
    "        {'kernel': ['linear'], 'C': np.linspace(1,20,100)},\n",
    "        {'kernel': ['rbf'], 'C': [1, 10], 'gamma': [0.0001, 0.001, 0.01, 0.1, 0.2]},\n",
    "        {'kernel': ['poly'], 'C':[1, 10]} ]\n",
    "grid_search = GridSearchCV(estimator = model, \n",
    "                           param_grid = paramaters,\n",
    "                           scoring = 'accuracy',\n",
    "                           cv = 4,\n",
    "                           n_jobs = -1)\n",
    "grid_search = grid_search.fit(X_train, y_train)\n",
    "\n",
    "best_accuracy = grid_search.best_score_ \n",
    "best_parameters = grid_search.best_params_  \n",
    "\n",
    "print('Best accuracy : ', grid_search.best_score_)\n",
    "print('Best parameters :', grid_search.best_params_  )\n",
    "\n",
    "y_pred = grid_search.predict(X_test)\n",
    "print(classification_report(y_test, y_pred))\n",
    "\n",
    "cf = confusion_matrix(y_test, y_pred)\n",
    "print(cf)\n",
    "print(accuracy_score(y_test, y_pred) * 100) \n",
    "\n",
    "\n"
   ]
  }
 ],
 "metadata": {
  "kernelspec": {
   "display_name": "Python 3",
   "language": "python",
   "name": "python3"
  },
  "language_info": {
   "codemirror_mode": {
    "name": "ipython",
    "version": 3
   },
   "file_extension": ".py",
   "mimetype": "text/x-python",
   "name": "python",
   "nbconvert_exporter": "python",
   "pygments_lexer": "ipython3",
   "version": "3.6.2"
  }
 },
 "nbformat": 4,
 "nbformat_minor": 2
}
